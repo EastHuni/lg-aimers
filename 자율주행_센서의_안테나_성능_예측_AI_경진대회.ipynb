{
  "nbformat": 4,
  "nbformat_minor": 0,
  "metadata": {
    "colab": {
      "provenance": [],
      "gpuType": "T4",
      "authorship_tag": "ABX9TyN1qczjnC+ztOVdofatRdR7",
      "include_colab_link": true
    },
    "kernelspec": {
      "name": "python3",
      "display_name": "Python 3"
    },
    "language_info": {
      "name": "python"
    },
    "accelerator": "GPU"
  },
  "cells": [
    {
      "cell_type": "markdown",
      "metadata": {
        "id": "view-in-github",
        "colab_type": "text"
      },
      "source": [
        "<a href=\"https://colab.research.google.com/github/EastHuni/lg-aimers/blob/main/%EC%9E%90%EC%9C%A8%EC%A3%BC%ED%96%89_%EC%84%BC%EC%84%9C%EC%9D%98_%EC%95%88%ED%85%8C%EB%82%98_%EC%84%B1%EB%8A%A5_%EC%98%88%EC%B8%A1_AI_%EA%B2%BD%EC%A7%84%EB%8C%80%ED%9A%8C.ipynb\" target=\"_parent\"><img src=\"https://colab.research.google.com/assets/colab-badge.svg\" alt=\"Open In Colab\"/></a>"
      ]
    },
    {
      "cell_type": "code",
      "execution_count": 6,
      "metadata": {
        "id": "6xCRjjZ9xCwa"
      },
      "outputs": [],
      "source": [
        "import pandas as pd\n",
        "import numpy as np"
      ]
    },
    {
      "cell_type": "code",
      "source": [
        "from google.colab import drive\n",
        "drive.mount('/content/drive')"
      ],
      "metadata": {
        "colab": {
          "base_uri": "https://localhost:8080/"
        },
        "id": "zbDG7_idxOx9",
        "outputId": "66ce5ab4-334a-4113-8dc3-1358d300bcf1"
      },
      "execution_count": 7,
      "outputs": [
        {
          "output_type": "stream",
          "name": "stdout",
          "text": [
            "Drive already mounted at /content/drive; to attempt to forcibly remount, call drive.mount(\"/content/drive\", force_remount=True).\n"
          ]
        }
      ]
    },
    {
      "cell_type": "code",
      "source": [
        "# import zipfile\n",
        "# import os\n",
        "\n",
        "# zip_path = '/content/drive/MyDrive/LG AImers/LG Aimers 1기_data.zip'\n",
        "# extract_path = '/content/drive/MyDrive/LG Almers/LG Aimers 1기_datasets'\n",
        "\n",
        "# os.makedirs(extract_path, exist_ok=True)\n",
        "\n",
        "# with zipfile.ZipFile(zip_path, 'r') as zip_ref:\n",
        "#     zip_ref.extractall(extract_path)\n",
        "\n",
        "# print(\"압축 해제 완료!\")"
      ],
      "metadata": {
        "id": "VWrWvR5bxOwA"
      },
      "execution_count": 8,
      "outputs": []
    },
    {
      "cell_type": "code",
      "source": [
        "def lg_nrmse(gt, preds):\n",
        "    all_nrmse = []\n",
        "    for idx in range(14):  # Y_01 ~ Y_14\n",
        "        mse = metrics.mean_squared_error(gt[:, idx], preds[:, idx])  # squared=False 제거\n",
        "        rmse = np.sqrt(mse)  # 직접 제곱근 계산\n",
        "        nrmse = rmse / np.mean(np.abs(gt[:, idx]))\n",
        "        all_nrmse.append(nrmse)\n",
        "    score = 1.2 * np.sum(all_nrmse[:8]) + 1.0 * np.sum(all_nrmse[8:])\n",
        "    return score"
      ],
      "metadata": {
        "id": "1c9NY9boxOt7"
      },
      "execution_count": 9,
      "outputs": []
    },
    {
      "cell_type": "code",
      "source": [
        "train = pd.read_csv(\"/content/drive/MyDrive/LG Almers/LG Aimers 1기_datasets/train.csv\")\n",
        "test = pd.read_csv(\"/content/drive/MyDrive/LG Almers/LG Aimers 1기_datasets/test.csv\")"
      ],
      "metadata": {
        "id": "KF0TWUWjxOrs"
      },
      "execution_count": 10,
      "outputs": []
    },
    {
      "cell_type": "code",
      "source": [
        "train.head()"
      ],
      "metadata": {
        "colab": {
          "base_uri": "https://localhost:8080/",
          "height": 236
        },
        "id": "T2TvOrWaxOpH",
        "outputId": "7a77ac42-947c-4637-9e21-d96b7e6bd178"
      },
      "execution_count": 11,
      "outputs": [
        {
          "output_type": "execute_result",
          "data": {
            "text/plain": [
              "            ID    X_01     X_02   X_03  X_04     X_05    X_06   X_07    X_08  \\\n",
              "0  TRAIN_00001  70.544  103.320  67.47     1  101.892  74.983  29.45   62.38   \n",
              "1  TRAIN_00002  69.524  103.321  65.17     1  101.944  72.943  28.73   61.23   \n",
              "2  TRAIN_00003  72.583  103.320  64.07     1  103.153  72.943  28.81  105.77   \n",
              "3  TRAIN_00004  71.563  103.320  67.57     1  101.971  77.022  28.92  115.21   \n",
              "4  TRAIN_00005  69.524  103.320  63.57     1  101.981  70.904  29.68  103.38   \n",
              "\n",
              "     X_09  ...    Y_05    Y_06   Y_07    Y_08    Y_09    Y_10    Y_11    Y_12  \\\n",
              "0  245.71  ...  29.632  16.083  4.276 -25.381 -25.529 -22.769  23.792 -25.470   \n",
              "1  233.61  ...  33.179  16.736  3.229 -26.619 -26.523 -22.574  24.691 -26.253   \n",
              "2  272.20  ...  31.801  17.080  2.839 -26.238 -26.216 -22.169  24.649 -26.285   \n",
              "3  255.36  ...  34.503  17.143  3.144 -25.426 -25.079 -21.765  24.913 -25.254   \n",
              "4  241.46  ...  32.602  17.569  3.138 -25.376 -25.242 -21.072  25.299 -25.072   \n",
              "\n",
              "     Y_13    Y_14  \n",
              "0 -25.409 -25.304  \n",
              "1 -26.497 -26.438  \n",
              "2 -26.215 -26.370  \n",
              "3 -25.021 -25.345  \n",
              "4 -25.195 -24.974  \n",
              "\n",
              "[5 rows x 71 columns]"
            ],
            "text/html": [
              "\n",
              "  <div id=\"df-d55fa220-d9bc-43b9-a87b-66394469a9e6\" class=\"colab-df-container\">\n",
              "    <div>\n",
              "<style scoped>\n",
              "    .dataframe tbody tr th:only-of-type {\n",
              "        vertical-align: middle;\n",
              "    }\n",
              "\n",
              "    .dataframe tbody tr th {\n",
              "        vertical-align: top;\n",
              "    }\n",
              "\n",
              "    .dataframe thead th {\n",
              "        text-align: right;\n",
              "    }\n",
              "</style>\n",
              "<table border=\"1\" class=\"dataframe\">\n",
              "  <thead>\n",
              "    <tr style=\"text-align: right;\">\n",
              "      <th></th>\n",
              "      <th>ID</th>\n",
              "      <th>X_01</th>\n",
              "      <th>X_02</th>\n",
              "      <th>X_03</th>\n",
              "      <th>X_04</th>\n",
              "      <th>X_05</th>\n",
              "      <th>X_06</th>\n",
              "      <th>X_07</th>\n",
              "      <th>X_08</th>\n",
              "      <th>X_09</th>\n",
              "      <th>...</th>\n",
              "      <th>Y_05</th>\n",
              "      <th>Y_06</th>\n",
              "      <th>Y_07</th>\n",
              "      <th>Y_08</th>\n",
              "      <th>Y_09</th>\n",
              "      <th>Y_10</th>\n",
              "      <th>Y_11</th>\n",
              "      <th>Y_12</th>\n",
              "      <th>Y_13</th>\n",
              "      <th>Y_14</th>\n",
              "    </tr>\n",
              "  </thead>\n",
              "  <tbody>\n",
              "    <tr>\n",
              "      <th>0</th>\n",
              "      <td>TRAIN_00001</td>\n",
              "      <td>70.544</td>\n",
              "      <td>103.320</td>\n",
              "      <td>67.47</td>\n",
              "      <td>1</td>\n",
              "      <td>101.892</td>\n",
              "      <td>74.983</td>\n",
              "      <td>29.45</td>\n",
              "      <td>62.38</td>\n",
              "      <td>245.71</td>\n",
              "      <td>...</td>\n",
              "      <td>29.632</td>\n",
              "      <td>16.083</td>\n",
              "      <td>4.276</td>\n",
              "      <td>-25.381</td>\n",
              "      <td>-25.529</td>\n",
              "      <td>-22.769</td>\n",
              "      <td>23.792</td>\n",
              "      <td>-25.470</td>\n",
              "      <td>-25.409</td>\n",
              "      <td>-25.304</td>\n",
              "    </tr>\n",
              "    <tr>\n",
              "      <th>1</th>\n",
              "      <td>TRAIN_00002</td>\n",
              "      <td>69.524</td>\n",
              "      <td>103.321</td>\n",
              "      <td>65.17</td>\n",
              "      <td>1</td>\n",
              "      <td>101.944</td>\n",
              "      <td>72.943</td>\n",
              "      <td>28.73</td>\n",
              "      <td>61.23</td>\n",
              "      <td>233.61</td>\n",
              "      <td>...</td>\n",
              "      <td>33.179</td>\n",
              "      <td>16.736</td>\n",
              "      <td>3.229</td>\n",
              "      <td>-26.619</td>\n",
              "      <td>-26.523</td>\n",
              "      <td>-22.574</td>\n",
              "      <td>24.691</td>\n",
              "      <td>-26.253</td>\n",
              "      <td>-26.497</td>\n",
              "      <td>-26.438</td>\n",
              "    </tr>\n",
              "    <tr>\n",
              "      <th>2</th>\n",
              "      <td>TRAIN_00003</td>\n",
              "      <td>72.583</td>\n",
              "      <td>103.320</td>\n",
              "      <td>64.07</td>\n",
              "      <td>1</td>\n",
              "      <td>103.153</td>\n",
              "      <td>72.943</td>\n",
              "      <td>28.81</td>\n",
              "      <td>105.77</td>\n",
              "      <td>272.20</td>\n",
              "      <td>...</td>\n",
              "      <td>31.801</td>\n",
              "      <td>17.080</td>\n",
              "      <td>2.839</td>\n",
              "      <td>-26.238</td>\n",
              "      <td>-26.216</td>\n",
              "      <td>-22.169</td>\n",
              "      <td>24.649</td>\n",
              "      <td>-26.285</td>\n",
              "      <td>-26.215</td>\n",
              "      <td>-26.370</td>\n",
              "    </tr>\n",
              "    <tr>\n",
              "      <th>3</th>\n",
              "      <td>TRAIN_00004</td>\n",
              "      <td>71.563</td>\n",
              "      <td>103.320</td>\n",
              "      <td>67.57</td>\n",
              "      <td>1</td>\n",
              "      <td>101.971</td>\n",
              "      <td>77.022</td>\n",
              "      <td>28.92</td>\n",
              "      <td>115.21</td>\n",
              "      <td>255.36</td>\n",
              "      <td>...</td>\n",
              "      <td>34.503</td>\n",
              "      <td>17.143</td>\n",
              "      <td>3.144</td>\n",
              "      <td>-25.426</td>\n",
              "      <td>-25.079</td>\n",
              "      <td>-21.765</td>\n",
              "      <td>24.913</td>\n",
              "      <td>-25.254</td>\n",
              "      <td>-25.021</td>\n",
              "      <td>-25.345</td>\n",
              "    </tr>\n",
              "    <tr>\n",
              "      <th>4</th>\n",
              "      <td>TRAIN_00005</td>\n",
              "      <td>69.524</td>\n",
              "      <td>103.320</td>\n",
              "      <td>63.57</td>\n",
              "      <td>1</td>\n",
              "      <td>101.981</td>\n",
              "      <td>70.904</td>\n",
              "      <td>29.68</td>\n",
              "      <td>103.38</td>\n",
              "      <td>241.46</td>\n",
              "      <td>...</td>\n",
              "      <td>32.602</td>\n",
              "      <td>17.569</td>\n",
              "      <td>3.138</td>\n",
              "      <td>-25.376</td>\n",
              "      <td>-25.242</td>\n",
              "      <td>-21.072</td>\n",
              "      <td>25.299</td>\n",
              "      <td>-25.072</td>\n",
              "      <td>-25.195</td>\n",
              "      <td>-24.974</td>\n",
              "    </tr>\n",
              "  </tbody>\n",
              "</table>\n",
              "<p>5 rows × 71 columns</p>\n",
              "</div>\n",
              "    <div class=\"colab-df-buttons\">\n",
              "\n",
              "  <div class=\"colab-df-container\">\n",
              "    <button class=\"colab-df-convert\" onclick=\"convertToInteractive('df-d55fa220-d9bc-43b9-a87b-66394469a9e6')\"\n",
              "            title=\"Convert this dataframe to an interactive table.\"\n",
              "            style=\"display:none;\">\n",
              "\n",
              "  <svg xmlns=\"http://www.w3.org/2000/svg\" height=\"24px\" viewBox=\"0 -960 960 960\">\n",
              "    <path d=\"M120-120v-720h720v720H120Zm60-500h600v-160H180v160Zm220 220h160v-160H400v160Zm0 220h160v-160H400v160ZM180-400h160v-160H180v160Zm440 0h160v-160H620v160ZM180-180h160v-160H180v160Zm440 0h160v-160H620v160Z\"/>\n",
              "  </svg>\n",
              "    </button>\n",
              "\n",
              "  <style>\n",
              "    .colab-df-container {\n",
              "      display:flex;\n",
              "      gap: 12px;\n",
              "    }\n",
              "\n",
              "    .colab-df-convert {\n",
              "      background-color: #E8F0FE;\n",
              "      border: none;\n",
              "      border-radius: 50%;\n",
              "      cursor: pointer;\n",
              "      display: none;\n",
              "      fill: #1967D2;\n",
              "      height: 32px;\n",
              "      padding: 0 0 0 0;\n",
              "      width: 32px;\n",
              "    }\n",
              "\n",
              "    .colab-df-convert:hover {\n",
              "      background-color: #E2EBFA;\n",
              "      box-shadow: 0px 1px 2px rgba(60, 64, 67, 0.3), 0px 1px 3px 1px rgba(60, 64, 67, 0.15);\n",
              "      fill: #174EA6;\n",
              "    }\n",
              "\n",
              "    .colab-df-buttons div {\n",
              "      margin-bottom: 4px;\n",
              "    }\n",
              "\n",
              "    [theme=dark] .colab-df-convert {\n",
              "      background-color: #3B4455;\n",
              "      fill: #D2E3FC;\n",
              "    }\n",
              "\n",
              "    [theme=dark] .colab-df-convert:hover {\n",
              "      background-color: #434B5C;\n",
              "      box-shadow: 0px 1px 3px 1px rgba(0, 0, 0, 0.15);\n",
              "      filter: drop-shadow(0px 1px 2px rgba(0, 0, 0, 0.3));\n",
              "      fill: #FFFFFF;\n",
              "    }\n",
              "  </style>\n",
              "\n",
              "    <script>\n",
              "      const buttonEl =\n",
              "        document.querySelector('#df-d55fa220-d9bc-43b9-a87b-66394469a9e6 button.colab-df-convert');\n",
              "      buttonEl.style.display =\n",
              "        google.colab.kernel.accessAllowed ? 'block' : 'none';\n",
              "\n",
              "      async function convertToInteractive(key) {\n",
              "        const element = document.querySelector('#df-d55fa220-d9bc-43b9-a87b-66394469a9e6');\n",
              "        const dataTable =\n",
              "          await google.colab.kernel.invokeFunction('convertToInteractive',\n",
              "                                                    [key], {});\n",
              "        if (!dataTable) return;\n",
              "\n",
              "        const docLinkHtml = 'Like what you see? Visit the ' +\n",
              "          '<a target=\"_blank\" href=https://colab.research.google.com/notebooks/data_table.ipynb>data table notebook</a>'\n",
              "          + ' to learn more about interactive tables.';\n",
              "        element.innerHTML = '';\n",
              "        dataTable['output_type'] = 'display_data';\n",
              "        await google.colab.output.renderOutput(dataTable, element);\n",
              "        const docLink = document.createElement('div');\n",
              "        docLink.innerHTML = docLinkHtml;\n",
              "        element.appendChild(docLink);\n",
              "      }\n",
              "    </script>\n",
              "  </div>\n",
              "\n",
              "\n",
              "    <div id=\"df-3b3b3a91-e200-4e3c-ae35-9a53b9ef6144\">\n",
              "      <button class=\"colab-df-quickchart\" onclick=\"quickchart('df-3b3b3a91-e200-4e3c-ae35-9a53b9ef6144')\"\n",
              "                title=\"Suggest charts\"\n",
              "                style=\"display:none;\">\n",
              "\n",
              "<svg xmlns=\"http://www.w3.org/2000/svg\" height=\"24px\"viewBox=\"0 0 24 24\"\n",
              "     width=\"24px\">\n",
              "    <g>\n",
              "        <path d=\"M19 3H5c-1.1 0-2 .9-2 2v14c0 1.1.9 2 2 2h14c1.1 0 2-.9 2-2V5c0-1.1-.9-2-2-2zM9 17H7v-7h2v7zm4 0h-2V7h2v10zm4 0h-2v-4h2v4z\"/>\n",
              "    </g>\n",
              "</svg>\n",
              "      </button>\n",
              "\n",
              "<style>\n",
              "  .colab-df-quickchart {\n",
              "      --bg-color: #E8F0FE;\n",
              "      --fill-color: #1967D2;\n",
              "      --hover-bg-color: #E2EBFA;\n",
              "      --hover-fill-color: #174EA6;\n",
              "      --disabled-fill-color: #AAA;\n",
              "      --disabled-bg-color: #DDD;\n",
              "  }\n",
              "\n",
              "  [theme=dark] .colab-df-quickchart {\n",
              "      --bg-color: #3B4455;\n",
              "      --fill-color: #D2E3FC;\n",
              "      --hover-bg-color: #434B5C;\n",
              "      --hover-fill-color: #FFFFFF;\n",
              "      --disabled-bg-color: #3B4455;\n",
              "      --disabled-fill-color: #666;\n",
              "  }\n",
              "\n",
              "  .colab-df-quickchart {\n",
              "    background-color: var(--bg-color);\n",
              "    border: none;\n",
              "    border-radius: 50%;\n",
              "    cursor: pointer;\n",
              "    display: none;\n",
              "    fill: var(--fill-color);\n",
              "    height: 32px;\n",
              "    padding: 0;\n",
              "    width: 32px;\n",
              "  }\n",
              "\n",
              "  .colab-df-quickchart:hover {\n",
              "    background-color: var(--hover-bg-color);\n",
              "    box-shadow: 0 1px 2px rgba(60, 64, 67, 0.3), 0 1px 3px 1px rgba(60, 64, 67, 0.15);\n",
              "    fill: var(--button-hover-fill-color);\n",
              "  }\n",
              "\n",
              "  .colab-df-quickchart-complete:disabled,\n",
              "  .colab-df-quickchart-complete:disabled:hover {\n",
              "    background-color: var(--disabled-bg-color);\n",
              "    fill: var(--disabled-fill-color);\n",
              "    box-shadow: none;\n",
              "  }\n",
              "\n",
              "  .colab-df-spinner {\n",
              "    border: 2px solid var(--fill-color);\n",
              "    border-color: transparent;\n",
              "    border-bottom-color: var(--fill-color);\n",
              "    animation:\n",
              "      spin 1s steps(1) infinite;\n",
              "  }\n",
              "\n",
              "  @keyframes spin {\n",
              "    0% {\n",
              "      border-color: transparent;\n",
              "      border-bottom-color: var(--fill-color);\n",
              "      border-left-color: var(--fill-color);\n",
              "    }\n",
              "    20% {\n",
              "      border-color: transparent;\n",
              "      border-left-color: var(--fill-color);\n",
              "      border-top-color: var(--fill-color);\n",
              "    }\n",
              "    30% {\n",
              "      border-color: transparent;\n",
              "      border-left-color: var(--fill-color);\n",
              "      border-top-color: var(--fill-color);\n",
              "      border-right-color: var(--fill-color);\n",
              "    }\n",
              "    40% {\n",
              "      border-color: transparent;\n",
              "      border-right-color: var(--fill-color);\n",
              "      border-top-color: var(--fill-color);\n",
              "    }\n",
              "    60% {\n",
              "      border-color: transparent;\n",
              "      border-right-color: var(--fill-color);\n",
              "    }\n",
              "    80% {\n",
              "      border-color: transparent;\n",
              "      border-right-color: var(--fill-color);\n",
              "      border-bottom-color: var(--fill-color);\n",
              "    }\n",
              "    90% {\n",
              "      border-color: transparent;\n",
              "      border-bottom-color: var(--fill-color);\n",
              "    }\n",
              "  }\n",
              "</style>\n",
              "\n",
              "      <script>\n",
              "        async function quickchart(key) {\n",
              "          const quickchartButtonEl =\n",
              "            document.querySelector('#' + key + ' button');\n",
              "          quickchartButtonEl.disabled = true;  // To prevent multiple clicks.\n",
              "          quickchartButtonEl.classList.add('colab-df-spinner');\n",
              "          try {\n",
              "            const charts = await google.colab.kernel.invokeFunction(\n",
              "                'suggestCharts', [key], {});\n",
              "          } catch (error) {\n",
              "            console.error('Error during call to suggestCharts:', error);\n",
              "          }\n",
              "          quickchartButtonEl.classList.remove('colab-df-spinner');\n",
              "          quickchartButtonEl.classList.add('colab-df-quickchart-complete');\n",
              "        }\n",
              "        (() => {\n",
              "          let quickchartButtonEl =\n",
              "            document.querySelector('#df-3b3b3a91-e200-4e3c-ae35-9a53b9ef6144 button');\n",
              "          quickchartButtonEl.style.display =\n",
              "            google.colab.kernel.accessAllowed ? 'block' : 'none';\n",
              "        })();\n",
              "      </script>\n",
              "    </div>\n",
              "\n",
              "    </div>\n",
              "  </div>\n"
            ],
            "application/vnd.google.colaboratory.intrinsic+json": {
              "type": "dataframe",
              "variable_name": "train"
            }
          },
          "metadata": {},
          "execution_count": 11
        }
      ]
    },
    {
      "cell_type": "code",
      "source": [
        "test.head()"
      ],
      "metadata": {
        "colab": {
          "base_uri": "https://localhost:8080/",
          "height": 236
        },
        "id": "bBGQ3gm-xOmw",
        "outputId": "23962676-8c08-476e-a777-f9c56b9ef18e"
      },
      "execution_count": 12,
      "outputs": [
        {
          "output_type": "execute_result",
          "data": {
            "text/plain": [
              "           ID    X_01     X_02   X_03  X_04     X_05    X_06   X_07    X_08  \\\n",
              "0  TEST_00001  68.504  103.321  76.67     1  101.867  73.963  30.51   63.57   \n",
              "1  TEST_00002  67.485  103.320  69.37     1  101.992  67.845  28.03  116.99   \n",
              "2  TEST_00003  69.524  103.320  68.97     1  101.884  77.022  29.65  205.68   \n",
              "3  TEST_00004  69.524  103.320  65.87     1  101.866  73.963  28.15  103.38   \n",
              "4  TEST_00005  73.603  103.321  66.67     1  101.891  74.983  29.92   71.20   \n",
              "\n",
              "     X_09  ...  X_47  X_48      X_49        X_50        X_51        X_52  \\\n",
              "0  239.80  ...     1     1  17227.63  138.130429  129.460682  141.506570   \n",
              "1  189.23  ...     1     1  17134.53  136.148839  128.266277  145.911745   \n",
              "2  214.93  ...     1     1  14860.83  120.447446  119.988804  132.099908   \n",
              "3  180.80  ...     1     1  15252.53  133.994695  125.069180  147.507669   \n",
              "4  231.93  ...     1     1  10752.23  137.918202  135.116192  138.600473   \n",
              "\n",
              "         X_53        X_54        X_55        X_56  \n",
              "0  133.427229  129.711498  133.138096  121.859684  \n",
              "1  131.196417  132.411480  133.629025  124.178623  \n",
              "2  120.450155  130.051708  128.252972  114.475628  \n",
              "3  123.142653  125.963665  139.666592  126.589253  \n",
              "4  127.173033  137.252712  134.411335  124.020016  \n",
              "\n",
              "[5 rows x 57 columns]"
            ],
            "text/html": [
              "\n",
              "  <div id=\"df-200cef69-c6f0-49cf-97cc-9c882788ef24\" class=\"colab-df-container\">\n",
              "    <div>\n",
              "<style scoped>\n",
              "    .dataframe tbody tr th:only-of-type {\n",
              "        vertical-align: middle;\n",
              "    }\n",
              "\n",
              "    .dataframe tbody tr th {\n",
              "        vertical-align: top;\n",
              "    }\n",
              "\n",
              "    .dataframe thead th {\n",
              "        text-align: right;\n",
              "    }\n",
              "</style>\n",
              "<table border=\"1\" class=\"dataframe\">\n",
              "  <thead>\n",
              "    <tr style=\"text-align: right;\">\n",
              "      <th></th>\n",
              "      <th>ID</th>\n",
              "      <th>X_01</th>\n",
              "      <th>X_02</th>\n",
              "      <th>X_03</th>\n",
              "      <th>X_04</th>\n",
              "      <th>X_05</th>\n",
              "      <th>X_06</th>\n",
              "      <th>X_07</th>\n",
              "      <th>X_08</th>\n",
              "      <th>X_09</th>\n",
              "      <th>...</th>\n",
              "      <th>X_47</th>\n",
              "      <th>X_48</th>\n",
              "      <th>X_49</th>\n",
              "      <th>X_50</th>\n",
              "      <th>X_51</th>\n",
              "      <th>X_52</th>\n",
              "      <th>X_53</th>\n",
              "      <th>X_54</th>\n",
              "      <th>X_55</th>\n",
              "      <th>X_56</th>\n",
              "    </tr>\n",
              "  </thead>\n",
              "  <tbody>\n",
              "    <tr>\n",
              "      <th>0</th>\n",
              "      <td>TEST_00001</td>\n",
              "      <td>68.504</td>\n",
              "      <td>103.321</td>\n",
              "      <td>76.67</td>\n",
              "      <td>1</td>\n",
              "      <td>101.867</td>\n",
              "      <td>73.963</td>\n",
              "      <td>30.51</td>\n",
              "      <td>63.57</td>\n",
              "      <td>239.80</td>\n",
              "      <td>...</td>\n",
              "      <td>1</td>\n",
              "      <td>1</td>\n",
              "      <td>17227.63</td>\n",
              "      <td>138.130429</td>\n",
              "      <td>129.460682</td>\n",
              "      <td>141.506570</td>\n",
              "      <td>133.427229</td>\n",
              "      <td>129.711498</td>\n",
              "      <td>133.138096</td>\n",
              "      <td>121.859684</td>\n",
              "    </tr>\n",
              "    <tr>\n",
              "      <th>1</th>\n",
              "      <td>TEST_00002</td>\n",
              "      <td>67.485</td>\n",
              "      <td>103.320</td>\n",
              "      <td>69.37</td>\n",
              "      <td>1</td>\n",
              "      <td>101.992</td>\n",
              "      <td>67.845</td>\n",
              "      <td>28.03</td>\n",
              "      <td>116.99</td>\n",
              "      <td>189.23</td>\n",
              "      <td>...</td>\n",
              "      <td>1</td>\n",
              "      <td>1</td>\n",
              "      <td>17134.53</td>\n",
              "      <td>136.148839</td>\n",
              "      <td>128.266277</td>\n",
              "      <td>145.911745</td>\n",
              "      <td>131.196417</td>\n",
              "      <td>132.411480</td>\n",
              "      <td>133.629025</td>\n",
              "      <td>124.178623</td>\n",
              "    </tr>\n",
              "    <tr>\n",
              "      <th>2</th>\n",
              "      <td>TEST_00003</td>\n",
              "      <td>69.524</td>\n",
              "      <td>103.320</td>\n",
              "      <td>68.97</td>\n",
              "      <td>1</td>\n",
              "      <td>101.884</td>\n",
              "      <td>77.022</td>\n",
              "      <td>29.65</td>\n",
              "      <td>205.68</td>\n",
              "      <td>214.93</td>\n",
              "      <td>...</td>\n",
              "      <td>1</td>\n",
              "      <td>1</td>\n",
              "      <td>14860.83</td>\n",
              "      <td>120.447446</td>\n",
              "      <td>119.988804</td>\n",
              "      <td>132.099908</td>\n",
              "      <td>120.450155</td>\n",
              "      <td>130.051708</td>\n",
              "      <td>128.252972</td>\n",
              "      <td>114.475628</td>\n",
              "    </tr>\n",
              "    <tr>\n",
              "      <th>3</th>\n",
              "      <td>TEST_00004</td>\n",
              "      <td>69.524</td>\n",
              "      <td>103.320</td>\n",
              "      <td>65.87</td>\n",
              "      <td>1</td>\n",
              "      <td>101.866</td>\n",
              "      <td>73.963</td>\n",
              "      <td>28.15</td>\n",
              "      <td>103.38</td>\n",
              "      <td>180.80</td>\n",
              "      <td>...</td>\n",
              "      <td>1</td>\n",
              "      <td>1</td>\n",
              "      <td>15252.53</td>\n",
              "      <td>133.994695</td>\n",
              "      <td>125.069180</td>\n",
              "      <td>147.507669</td>\n",
              "      <td>123.142653</td>\n",
              "      <td>125.963665</td>\n",
              "      <td>139.666592</td>\n",
              "      <td>126.589253</td>\n",
              "    </tr>\n",
              "    <tr>\n",
              "      <th>4</th>\n",
              "      <td>TEST_00005</td>\n",
              "      <td>73.603</td>\n",
              "      <td>103.321</td>\n",
              "      <td>66.67</td>\n",
              "      <td>1</td>\n",
              "      <td>101.891</td>\n",
              "      <td>74.983</td>\n",
              "      <td>29.92</td>\n",
              "      <td>71.20</td>\n",
              "      <td>231.93</td>\n",
              "      <td>...</td>\n",
              "      <td>1</td>\n",
              "      <td>1</td>\n",
              "      <td>10752.23</td>\n",
              "      <td>137.918202</td>\n",
              "      <td>135.116192</td>\n",
              "      <td>138.600473</td>\n",
              "      <td>127.173033</td>\n",
              "      <td>137.252712</td>\n",
              "      <td>134.411335</td>\n",
              "      <td>124.020016</td>\n",
              "    </tr>\n",
              "  </tbody>\n",
              "</table>\n",
              "<p>5 rows × 57 columns</p>\n",
              "</div>\n",
              "    <div class=\"colab-df-buttons\">\n",
              "\n",
              "  <div class=\"colab-df-container\">\n",
              "    <button class=\"colab-df-convert\" onclick=\"convertToInteractive('df-200cef69-c6f0-49cf-97cc-9c882788ef24')\"\n",
              "            title=\"Convert this dataframe to an interactive table.\"\n",
              "            style=\"display:none;\">\n",
              "\n",
              "  <svg xmlns=\"http://www.w3.org/2000/svg\" height=\"24px\" viewBox=\"0 -960 960 960\">\n",
              "    <path d=\"M120-120v-720h720v720H120Zm60-500h600v-160H180v160Zm220 220h160v-160H400v160Zm0 220h160v-160H400v160ZM180-400h160v-160H180v160Zm440 0h160v-160H620v160ZM180-180h160v-160H180v160Zm440 0h160v-160H620v160Z\"/>\n",
              "  </svg>\n",
              "    </button>\n",
              "\n",
              "  <style>\n",
              "    .colab-df-container {\n",
              "      display:flex;\n",
              "      gap: 12px;\n",
              "    }\n",
              "\n",
              "    .colab-df-convert {\n",
              "      background-color: #E8F0FE;\n",
              "      border: none;\n",
              "      border-radius: 50%;\n",
              "      cursor: pointer;\n",
              "      display: none;\n",
              "      fill: #1967D2;\n",
              "      height: 32px;\n",
              "      padding: 0 0 0 0;\n",
              "      width: 32px;\n",
              "    }\n",
              "\n",
              "    .colab-df-convert:hover {\n",
              "      background-color: #E2EBFA;\n",
              "      box-shadow: 0px 1px 2px rgba(60, 64, 67, 0.3), 0px 1px 3px 1px rgba(60, 64, 67, 0.15);\n",
              "      fill: #174EA6;\n",
              "    }\n",
              "\n",
              "    .colab-df-buttons div {\n",
              "      margin-bottom: 4px;\n",
              "    }\n",
              "\n",
              "    [theme=dark] .colab-df-convert {\n",
              "      background-color: #3B4455;\n",
              "      fill: #D2E3FC;\n",
              "    }\n",
              "\n",
              "    [theme=dark] .colab-df-convert:hover {\n",
              "      background-color: #434B5C;\n",
              "      box-shadow: 0px 1px 3px 1px rgba(0, 0, 0, 0.15);\n",
              "      filter: drop-shadow(0px 1px 2px rgba(0, 0, 0, 0.3));\n",
              "      fill: #FFFFFF;\n",
              "    }\n",
              "  </style>\n",
              "\n",
              "    <script>\n",
              "      const buttonEl =\n",
              "        document.querySelector('#df-200cef69-c6f0-49cf-97cc-9c882788ef24 button.colab-df-convert');\n",
              "      buttonEl.style.display =\n",
              "        google.colab.kernel.accessAllowed ? 'block' : 'none';\n",
              "\n",
              "      async function convertToInteractive(key) {\n",
              "        const element = document.querySelector('#df-200cef69-c6f0-49cf-97cc-9c882788ef24');\n",
              "        const dataTable =\n",
              "          await google.colab.kernel.invokeFunction('convertToInteractive',\n",
              "                                                    [key], {});\n",
              "        if (!dataTable) return;\n",
              "\n",
              "        const docLinkHtml = 'Like what you see? Visit the ' +\n",
              "          '<a target=\"_blank\" href=https://colab.research.google.com/notebooks/data_table.ipynb>data table notebook</a>'\n",
              "          + ' to learn more about interactive tables.';\n",
              "        element.innerHTML = '';\n",
              "        dataTable['output_type'] = 'display_data';\n",
              "        await google.colab.output.renderOutput(dataTable, element);\n",
              "        const docLink = document.createElement('div');\n",
              "        docLink.innerHTML = docLinkHtml;\n",
              "        element.appendChild(docLink);\n",
              "      }\n",
              "    </script>\n",
              "  </div>\n",
              "\n",
              "\n",
              "    <div id=\"df-c2be3041-ca9e-4130-90a5-150bccf03c5d\">\n",
              "      <button class=\"colab-df-quickchart\" onclick=\"quickchart('df-c2be3041-ca9e-4130-90a5-150bccf03c5d')\"\n",
              "                title=\"Suggest charts\"\n",
              "                style=\"display:none;\">\n",
              "\n",
              "<svg xmlns=\"http://www.w3.org/2000/svg\" height=\"24px\"viewBox=\"0 0 24 24\"\n",
              "     width=\"24px\">\n",
              "    <g>\n",
              "        <path d=\"M19 3H5c-1.1 0-2 .9-2 2v14c0 1.1.9 2 2 2h14c1.1 0 2-.9 2-2V5c0-1.1-.9-2-2-2zM9 17H7v-7h2v7zm4 0h-2V7h2v10zm4 0h-2v-4h2v4z\"/>\n",
              "    </g>\n",
              "</svg>\n",
              "      </button>\n",
              "\n",
              "<style>\n",
              "  .colab-df-quickchart {\n",
              "      --bg-color: #E8F0FE;\n",
              "      --fill-color: #1967D2;\n",
              "      --hover-bg-color: #E2EBFA;\n",
              "      --hover-fill-color: #174EA6;\n",
              "      --disabled-fill-color: #AAA;\n",
              "      --disabled-bg-color: #DDD;\n",
              "  }\n",
              "\n",
              "  [theme=dark] .colab-df-quickchart {\n",
              "      --bg-color: #3B4455;\n",
              "      --fill-color: #D2E3FC;\n",
              "      --hover-bg-color: #434B5C;\n",
              "      --hover-fill-color: #FFFFFF;\n",
              "      --disabled-bg-color: #3B4455;\n",
              "      --disabled-fill-color: #666;\n",
              "  }\n",
              "\n",
              "  .colab-df-quickchart {\n",
              "    background-color: var(--bg-color);\n",
              "    border: none;\n",
              "    border-radius: 50%;\n",
              "    cursor: pointer;\n",
              "    display: none;\n",
              "    fill: var(--fill-color);\n",
              "    height: 32px;\n",
              "    padding: 0;\n",
              "    width: 32px;\n",
              "  }\n",
              "\n",
              "  .colab-df-quickchart:hover {\n",
              "    background-color: var(--hover-bg-color);\n",
              "    box-shadow: 0 1px 2px rgba(60, 64, 67, 0.3), 0 1px 3px 1px rgba(60, 64, 67, 0.15);\n",
              "    fill: var(--button-hover-fill-color);\n",
              "  }\n",
              "\n",
              "  .colab-df-quickchart-complete:disabled,\n",
              "  .colab-df-quickchart-complete:disabled:hover {\n",
              "    background-color: var(--disabled-bg-color);\n",
              "    fill: var(--disabled-fill-color);\n",
              "    box-shadow: none;\n",
              "  }\n",
              "\n",
              "  .colab-df-spinner {\n",
              "    border: 2px solid var(--fill-color);\n",
              "    border-color: transparent;\n",
              "    border-bottom-color: var(--fill-color);\n",
              "    animation:\n",
              "      spin 1s steps(1) infinite;\n",
              "  }\n",
              "\n",
              "  @keyframes spin {\n",
              "    0% {\n",
              "      border-color: transparent;\n",
              "      border-bottom-color: var(--fill-color);\n",
              "      border-left-color: var(--fill-color);\n",
              "    }\n",
              "    20% {\n",
              "      border-color: transparent;\n",
              "      border-left-color: var(--fill-color);\n",
              "      border-top-color: var(--fill-color);\n",
              "    }\n",
              "    30% {\n",
              "      border-color: transparent;\n",
              "      border-left-color: var(--fill-color);\n",
              "      border-top-color: var(--fill-color);\n",
              "      border-right-color: var(--fill-color);\n",
              "    }\n",
              "    40% {\n",
              "      border-color: transparent;\n",
              "      border-right-color: var(--fill-color);\n",
              "      border-top-color: var(--fill-color);\n",
              "    }\n",
              "    60% {\n",
              "      border-color: transparent;\n",
              "      border-right-color: var(--fill-color);\n",
              "    }\n",
              "    80% {\n",
              "      border-color: transparent;\n",
              "      border-right-color: var(--fill-color);\n",
              "      border-bottom-color: var(--fill-color);\n",
              "    }\n",
              "    90% {\n",
              "      border-color: transparent;\n",
              "      border-bottom-color: var(--fill-color);\n",
              "    }\n",
              "  }\n",
              "</style>\n",
              "\n",
              "      <script>\n",
              "        async function quickchart(key) {\n",
              "          const quickchartButtonEl =\n",
              "            document.querySelector('#' + key + ' button');\n",
              "          quickchartButtonEl.disabled = true;  // To prevent multiple clicks.\n",
              "          quickchartButtonEl.classList.add('colab-df-spinner');\n",
              "          try {\n",
              "            const charts = await google.colab.kernel.invokeFunction(\n",
              "                'suggestCharts', [key], {});\n",
              "          } catch (error) {\n",
              "            console.error('Error during call to suggestCharts:', error);\n",
              "          }\n",
              "          quickchartButtonEl.classList.remove('colab-df-spinner');\n",
              "          quickchartButtonEl.classList.add('colab-df-quickchart-complete');\n",
              "        }\n",
              "        (() => {\n",
              "          let quickchartButtonEl =\n",
              "            document.querySelector('#df-c2be3041-ca9e-4130-90a5-150bccf03c5d button');\n",
              "          quickchartButtonEl.style.display =\n",
              "            google.colab.kernel.accessAllowed ? 'block' : 'none';\n",
              "        })();\n",
              "      </script>\n",
              "    </div>\n",
              "\n",
              "    </div>\n",
              "  </div>\n"
            ],
            "application/vnd.google.colaboratory.intrinsic+json": {
              "type": "dataframe",
              "variable_name": "test"
            }
          },
          "metadata": {},
          "execution_count": 12
        }
      ]
    },
    {
      "cell_type": "code",
      "source": [
        "print(train.shape, test.shape)"
      ],
      "metadata": {
        "colab": {
          "base_uri": "https://localhost:8080/"
        },
        "id": "_rP3RQ6TxOkT",
        "outputId": "c42f87e2-a6bf-42e1-91c8-214be764ff9f"
      },
      "execution_count": 13,
      "outputs": [
        {
          "output_type": "stream",
          "name": "stdout",
          "text": [
            "(39607, 71) (39608, 57)\n"
          ]
        }
      ]
    },
    {
      "cell_type": "code",
      "source": [
        "train[train.isnull().any(axis=1)] #train 결측치 없음"
      ],
      "metadata": {
        "colab": {
          "base_uri": "https://localhost:8080/",
          "height": 79
        },
        "id": "myW22P5z2HXT",
        "outputId": "85d96162-e0ae-4251-b883-4be7c57ba9a7"
      },
      "execution_count": 14,
      "outputs": [
        {
          "output_type": "execute_result",
          "data": {
            "text/plain": [
              "Empty DataFrame\n",
              "Columns: [ID, X_01, X_02, X_03, X_04, X_05, X_06, X_07, X_08, X_09, X_10, X_11, X_12, X_13, X_14, X_15, X_16, X_17, X_18, X_19, X_20, X_21, X_22, X_23, X_24, X_25, X_26, X_27, X_28, X_29, X_30, X_31, X_32, X_33, X_34, X_35, X_36, X_37, X_38, X_39, X_40, X_41, X_42, X_43, X_44, X_45, X_46, X_47, X_48, X_49, X_50, X_51, X_52, X_53, X_54, X_55, X_56, Y_01, Y_02, Y_03, Y_04, Y_05, Y_06, Y_07, Y_08, Y_09, Y_10, Y_11, Y_12, Y_13, Y_14]\n",
              "Index: []\n",
              "\n",
              "[0 rows x 71 columns]"
            ],
            "text/html": [
              "\n",
              "  <div id=\"df-288b4bf7-2fc4-449a-bde3-cb6069ffa2dd\" class=\"colab-df-container\">\n",
              "    <div>\n",
              "<style scoped>\n",
              "    .dataframe tbody tr th:only-of-type {\n",
              "        vertical-align: middle;\n",
              "    }\n",
              "\n",
              "    .dataframe tbody tr th {\n",
              "        vertical-align: top;\n",
              "    }\n",
              "\n",
              "    .dataframe thead th {\n",
              "        text-align: right;\n",
              "    }\n",
              "</style>\n",
              "<table border=\"1\" class=\"dataframe\">\n",
              "  <thead>\n",
              "    <tr style=\"text-align: right;\">\n",
              "      <th></th>\n",
              "      <th>ID</th>\n",
              "      <th>X_01</th>\n",
              "      <th>X_02</th>\n",
              "      <th>X_03</th>\n",
              "      <th>X_04</th>\n",
              "      <th>X_05</th>\n",
              "      <th>X_06</th>\n",
              "      <th>X_07</th>\n",
              "      <th>X_08</th>\n",
              "      <th>X_09</th>\n",
              "      <th>...</th>\n",
              "      <th>Y_05</th>\n",
              "      <th>Y_06</th>\n",
              "      <th>Y_07</th>\n",
              "      <th>Y_08</th>\n",
              "      <th>Y_09</th>\n",
              "      <th>Y_10</th>\n",
              "      <th>Y_11</th>\n",
              "      <th>Y_12</th>\n",
              "      <th>Y_13</th>\n",
              "      <th>Y_14</th>\n",
              "    </tr>\n",
              "  </thead>\n",
              "  <tbody>\n",
              "  </tbody>\n",
              "</table>\n",
              "<p>0 rows × 71 columns</p>\n",
              "</div>\n",
              "    <div class=\"colab-df-buttons\">\n",
              "\n",
              "  <div class=\"colab-df-container\">\n",
              "    <button class=\"colab-df-convert\" onclick=\"convertToInteractive('df-288b4bf7-2fc4-449a-bde3-cb6069ffa2dd')\"\n",
              "            title=\"Convert this dataframe to an interactive table.\"\n",
              "            style=\"display:none;\">\n",
              "\n",
              "  <svg xmlns=\"http://www.w3.org/2000/svg\" height=\"24px\" viewBox=\"0 -960 960 960\">\n",
              "    <path d=\"M120-120v-720h720v720H120Zm60-500h600v-160H180v160Zm220 220h160v-160H400v160Zm0 220h160v-160H400v160ZM180-400h160v-160H180v160Zm440 0h160v-160H620v160ZM180-180h160v-160H180v160Zm440 0h160v-160H620v160Z\"/>\n",
              "  </svg>\n",
              "    </button>\n",
              "\n",
              "  <style>\n",
              "    .colab-df-container {\n",
              "      display:flex;\n",
              "      gap: 12px;\n",
              "    }\n",
              "\n",
              "    .colab-df-convert {\n",
              "      background-color: #E8F0FE;\n",
              "      border: none;\n",
              "      border-radius: 50%;\n",
              "      cursor: pointer;\n",
              "      display: none;\n",
              "      fill: #1967D2;\n",
              "      height: 32px;\n",
              "      padding: 0 0 0 0;\n",
              "      width: 32px;\n",
              "    }\n",
              "\n",
              "    .colab-df-convert:hover {\n",
              "      background-color: #E2EBFA;\n",
              "      box-shadow: 0px 1px 2px rgba(60, 64, 67, 0.3), 0px 1px 3px 1px rgba(60, 64, 67, 0.15);\n",
              "      fill: #174EA6;\n",
              "    }\n",
              "\n",
              "    .colab-df-buttons div {\n",
              "      margin-bottom: 4px;\n",
              "    }\n",
              "\n",
              "    [theme=dark] .colab-df-convert {\n",
              "      background-color: #3B4455;\n",
              "      fill: #D2E3FC;\n",
              "    }\n",
              "\n",
              "    [theme=dark] .colab-df-convert:hover {\n",
              "      background-color: #434B5C;\n",
              "      box-shadow: 0px 1px 3px 1px rgba(0, 0, 0, 0.15);\n",
              "      filter: drop-shadow(0px 1px 2px rgba(0, 0, 0, 0.3));\n",
              "      fill: #FFFFFF;\n",
              "    }\n",
              "  </style>\n",
              "\n",
              "    <script>\n",
              "      const buttonEl =\n",
              "        document.querySelector('#df-288b4bf7-2fc4-449a-bde3-cb6069ffa2dd button.colab-df-convert');\n",
              "      buttonEl.style.display =\n",
              "        google.colab.kernel.accessAllowed ? 'block' : 'none';\n",
              "\n",
              "      async function convertToInteractive(key) {\n",
              "        const element = document.querySelector('#df-288b4bf7-2fc4-449a-bde3-cb6069ffa2dd');\n",
              "        const dataTable =\n",
              "          await google.colab.kernel.invokeFunction('convertToInteractive',\n",
              "                                                    [key], {});\n",
              "        if (!dataTable) return;\n",
              "\n",
              "        const docLinkHtml = 'Like what you see? Visit the ' +\n",
              "          '<a target=\"_blank\" href=https://colab.research.google.com/notebooks/data_table.ipynb>data table notebook</a>'\n",
              "          + ' to learn more about interactive tables.';\n",
              "        element.innerHTML = '';\n",
              "        dataTable['output_type'] = 'display_data';\n",
              "        await google.colab.output.renderOutput(dataTable, element);\n",
              "        const docLink = document.createElement('div');\n",
              "        docLink.innerHTML = docLinkHtml;\n",
              "        element.appendChild(docLink);\n",
              "      }\n",
              "    </script>\n",
              "  </div>\n",
              "\n",
              "\n",
              "    </div>\n",
              "  </div>\n"
            ],
            "application/vnd.google.colaboratory.intrinsic+json": {
              "type": "dataframe"
            }
          },
          "metadata": {},
          "execution_count": 14
        }
      ]
    },
    {
      "cell_type": "code",
      "source": [
        "test[test.isnull().any(axis=1)] #test도 동일"
      ],
      "metadata": {
        "colab": {
          "base_uri": "https://localhost:8080/",
          "height": 79
        },
        "id": "Gl8xZ_to2hHD",
        "outputId": "a46a4c2e-f70c-4f6f-d8a5-711a55f41756"
      },
      "execution_count": 15,
      "outputs": [
        {
          "output_type": "execute_result",
          "data": {
            "text/plain": [
              "Empty DataFrame\n",
              "Columns: [ID, X_01, X_02, X_03, X_04, X_05, X_06, X_07, X_08, X_09, X_10, X_11, X_12, X_13, X_14, X_15, X_16, X_17, X_18, X_19, X_20, X_21, X_22, X_23, X_24, X_25, X_26, X_27, X_28, X_29, X_30, X_31, X_32, X_33, X_34, X_35, X_36, X_37, X_38, X_39, X_40, X_41, X_42, X_43, X_44, X_45, X_46, X_47, X_48, X_49, X_50, X_51, X_52, X_53, X_54, X_55, X_56]\n",
              "Index: []\n",
              "\n",
              "[0 rows x 57 columns]"
            ],
            "text/html": [
              "\n",
              "  <div id=\"df-93f1409a-43af-428a-9b93-26ed3b2fb510\" class=\"colab-df-container\">\n",
              "    <div>\n",
              "<style scoped>\n",
              "    .dataframe tbody tr th:only-of-type {\n",
              "        vertical-align: middle;\n",
              "    }\n",
              "\n",
              "    .dataframe tbody tr th {\n",
              "        vertical-align: top;\n",
              "    }\n",
              "\n",
              "    .dataframe thead th {\n",
              "        text-align: right;\n",
              "    }\n",
              "</style>\n",
              "<table border=\"1\" class=\"dataframe\">\n",
              "  <thead>\n",
              "    <tr style=\"text-align: right;\">\n",
              "      <th></th>\n",
              "      <th>ID</th>\n",
              "      <th>X_01</th>\n",
              "      <th>X_02</th>\n",
              "      <th>X_03</th>\n",
              "      <th>X_04</th>\n",
              "      <th>X_05</th>\n",
              "      <th>X_06</th>\n",
              "      <th>X_07</th>\n",
              "      <th>X_08</th>\n",
              "      <th>X_09</th>\n",
              "      <th>...</th>\n",
              "      <th>X_47</th>\n",
              "      <th>X_48</th>\n",
              "      <th>X_49</th>\n",
              "      <th>X_50</th>\n",
              "      <th>X_51</th>\n",
              "      <th>X_52</th>\n",
              "      <th>X_53</th>\n",
              "      <th>X_54</th>\n",
              "      <th>X_55</th>\n",
              "      <th>X_56</th>\n",
              "    </tr>\n",
              "  </thead>\n",
              "  <tbody>\n",
              "  </tbody>\n",
              "</table>\n",
              "<p>0 rows × 57 columns</p>\n",
              "</div>\n",
              "    <div class=\"colab-df-buttons\">\n",
              "\n",
              "  <div class=\"colab-df-container\">\n",
              "    <button class=\"colab-df-convert\" onclick=\"convertToInteractive('df-93f1409a-43af-428a-9b93-26ed3b2fb510')\"\n",
              "            title=\"Convert this dataframe to an interactive table.\"\n",
              "            style=\"display:none;\">\n",
              "\n",
              "  <svg xmlns=\"http://www.w3.org/2000/svg\" height=\"24px\" viewBox=\"0 -960 960 960\">\n",
              "    <path d=\"M120-120v-720h720v720H120Zm60-500h600v-160H180v160Zm220 220h160v-160H400v160Zm0 220h160v-160H400v160ZM180-400h160v-160H180v160Zm440 0h160v-160H620v160ZM180-180h160v-160H180v160Zm440 0h160v-160H620v160Z\"/>\n",
              "  </svg>\n",
              "    </button>\n",
              "\n",
              "  <style>\n",
              "    .colab-df-container {\n",
              "      display:flex;\n",
              "      gap: 12px;\n",
              "    }\n",
              "\n",
              "    .colab-df-convert {\n",
              "      background-color: #E8F0FE;\n",
              "      border: none;\n",
              "      border-radius: 50%;\n",
              "      cursor: pointer;\n",
              "      display: none;\n",
              "      fill: #1967D2;\n",
              "      height: 32px;\n",
              "      padding: 0 0 0 0;\n",
              "      width: 32px;\n",
              "    }\n",
              "\n",
              "    .colab-df-convert:hover {\n",
              "      background-color: #E2EBFA;\n",
              "      box-shadow: 0px 1px 2px rgba(60, 64, 67, 0.3), 0px 1px 3px 1px rgba(60, 64, 67, 0.15);\n",
              "      fill: #174EA6;\n",
              "    }\n",
              "\n",
              "    .colab-df-buttons div {\n",
              "      margin-bottom: 4px;\n",
              "    }\n",
              "\n",
              "    [theme=dark] .colab-df-convert {\n",
              "      background-color: #3B4455;\n",
              "      fill: #D2E3FC;\n",
              "    }\n",
              "\n",
              "    [theme=dark] .colab-df-convert:hover {\n",
              "      background-color: #434B5C;\n",
              "      box-shadow: 0px 1px 3px 1px rgba(0, 0, 0, 0.15);\n",
              "      filter: drop-shadow(0px 1px 2px rgba(0, 0, 0, 0.3));\n",
              "      fill: #FFFFFF;\n",
              "    }\n",
              "  </style>\n",
              "\n",
              "    <script>\n",
              "      const buttonEl =\n",
              "        document.querySelector('#df-93f1409a-43af-428a-9b93-26ed3b2fb510 button.colab-df-convert');\n",
              "      buttonEl.style.display =\n",
              "        google.colab.kernel.accessAllowed ? 'block' : 'none';\n",
              "\n",
              "      async function convertToInteractive(key) {\n",
              "        const element = document.querySelector('#df-93f1409a-43af-428a-9b93-26ed3b2fb510');\n",
              "        const dataTable =\n",
              "          await google.colab.kernel.invokeFunction('convertToInteractive',\n",
              "                                                    [key], {});\n",
              "        if (!dataTable) return;\n",
              "\n",
              "        const docLinkHtml = 'Like what you see? Visit the ' +\n",
              "          '<a target=\"_blank\" href=https://colab.research.google.com/notebooks/data_table.ipynb>data table notebook</a>'\n",
              "          + ' to learn more about interactive tables.';\n",
              "        element.innerHTML = '';\n",
              "        dataTable['output_type'] = 'display_data';\n",
              "        await google.colab.output.renderOutput(dataTable, element);\n",
              "        const docLink = document.createElement('div');\n",
              "        docLink.innerHTML = docLinkHtml;\n",
              "        element.appendChild(docLink);\n",
              "      }\n",
              "    </script>\n",
              "  </div>\n",
              "\n",
              "\n",
              "    </div>\n",
              "  </div>\n"
            ],
            "application/vnd.google.colaboratory.intrinsic+json": {
              "type": "dataframe"
            }
          },
          "metadata": {},
          "execution_count": 15
        }
      ]
    },
    {
      "cell_type": "code",
      "source": [
        "train.info() # ID 만 object , 나머지 수치형"
      ],
      "metadata": {
        "colab": {
          "base_uri": "https://localhost:8080/"
        },
        "id": "DMWINJ6fztUP",
        "outputId": "00ebe0bf-c453-49ce-c82a-f0274fbe821b"
      },
      "execution_count": 16,
      "outputs": [
        {
          "output_type": "stream",
          "name": "stdout",
          "text": [
            "<class 'pandas.core.frame.DataFrame'>\n",
            "RangeIndex: 39607 entries, 0 to 39606\n",
            "Data columns (total 71 columns):\n",
            " #   Column  Non-Null Count  Dtype  \n",
            "---  ------  --------------  -----  \n",
            " 0   ID      39607 non-null  object \n",
            " 1   X_01    39607 non-null  float64\n",
            " 2   X_02    39607 non-null  float64\n",
            " 3   X_03    39607 non-null  float64\n",
            " 4   X_04    39607 non-null  int64  \n",
            " 5   X_05    39607 non-null  float64\n",
            " 6   X_06    39607 non-null  float64\n",
            " 7   X_07    39607 non-null  float64\n",
            " 8   X_08    39607 non-null  float64\n",
            " 9   X_09    39607 non-null  float64\n",
            " 10  X_10    39607 non-null  float64\n",
            " 11  X_11    39607 non-null  float64\n",
            " 12  X_12    39607 non-null  float64\n",
            " 13  X_13    39607 non-null  float64\n",
            " 14  X_14    39607 non-null  float64\n",
            " 15  X_15    39607 non-null  float64\n",
            " 16  X_16    39607 non-null  float64\n",
            " 17  X_17    39607 non-null  float64\n",
            " 18  X_18    39607 non-null  float64\n",
            " 19  X_19    39607 non-null  float64\n",
            " 20  X_20    39607 non-null  float64\n",
            " 21  X_21    39607 non-null  float64\n",
            " 22  X_22    39607 non-null  float64\n",
            " 23  X_23    39607 non-null  int64  \n",
            " 24  X_24    39607 non-null  float64\n",
            " 25  X_25    39607 non-null  float64\n",
            " 26  X_26    39607 non-null  float64\n",
            " 27  X_27    39607 non-null  float64\n",
            " 28  X_28    39607 non-null  float64\n",
            " 29  X_29    39607 non-null  float64\n",
            " 30  X_30    39607 non-null  float64\n",
            " 31  X_31    39607 non-null  float64\n",
            " 32  X_32    39607 non-null  float64\n",
            " 33  X_33    39607 non-null  float64\n",
            " 34  X_34    39607 non-null  float64\n",
            " 35  X_35    39607 non-null  float64\n",
            " 36  X_36    39607 non-null  float64\n",
            " 37  X_37    39607 non-null  float64\n",
            " 38  X_38    39607 non-null  float64\n",
            " 39  X_39    39607 non-null  float64\n",
            " 40  X_40    39607 non-null  float64\n",
            " 41  X_41    39607 non-null  float64\n",
            " 42  X_42    39607 non-null  float64\n",
            " 43  X_43    39607 non-null  float64\n",
            " 44  X_44    39607 non-null  float64\n",
            " 45  X_45    39607 non-null  float64\n",
            " 46  X_46    39607 non-null  int64  \n",
            " 47  X_47    39607 non-null  int64  \n",
            " 48  X_48    39607 non-null  int64  \n",
            " 49  X_49    39607 non-null  float64\n",
            " 50  X_50    39607 non-null  float64\n",
            " 51  X_51    39607 non-null  float64\n",
            " 52  X_52    39607 non-null  float64\n",
            " 53  X_53    39607 non-null  float64\n",
            " 54  X_54    39607 non-null  float64\n",
            " 55  X_55    39607 non-null  float64\n",
            " 56  X_56    39607 non-null  float64\n",
            " 57  Y_01    39607 non-null  float64\n",
            " 58  Y_02    39607 non-null  float64\n",
            " 59  Y_03    39607 non-null  float64\n",
            " 60  Y_04    39607 non-null  float64\n",
            " 61  Y_05    39607 non-null  float64\n",
            " 62  Y_06    39607 non-null  float64\n",
            " 63  Y_07    39607 non-null  float64\n",
            " 64  Y_08    39607 non-null  float64\n",
            " 65  Y_09    39607 non-null  float64\n",
            " 66  Y_10    39607 non-null  float64\n",
            " 67  Y_11    39607 non-null  float64\n",
            " 68  Y_12    39607 non-null  float64\n",
            " 69  Y_13    39607 non-null  float64\n",
            " 70  Y_14    39607 non-null  float64\n",
            "dtypes: float64(65), int64(5), object(1)\n",
            "memory usage: 21.5+ MB\n"
          ]
        }
      ]
    },
    {
      "cell_type": "code",
      "source": [
        "test.info() # train과 동일"
      ],
      "metadata": {
        "colab": {
          "base_uri": "https://localhost:8080/"
        },
        "id": "hwluMQZrz2X2",
        "outputId": "1a8a8b88-6056-4021-c0cf-c740ded2babe"
      },
      "execution_count": 17,
      "outputs": [
        {
          "output_type": "stream",
          "name": "stdout",
          "text": [
            "<class 'pandas.core.frame.DataFrame'>\n",
            "RangeIndex: 39608 entries, 0 to 39607\n",
            "Data columns (total 57 columns):\n",
            " #   Column  Non-Null Count  Dtype  \n",
            "---  ------  --------------  -----  \n",
            " 0   ID      39608 non-null  object \n",
            " 1   X_01    39608 non-null  float64\n",
            " 2   X_02    39608 non-null  float64\n",
            " 3   X_03    39608 non-null  float64\n",
            " 4   X_04    39608 non-null  int64  \n",
            " 5   X_05    39608 non-null  float64\n",
            " 6   X_06    39608 non-null  float64\n",
            " 7   X_07    39608 non-null  float64\n",
            " 8   X_08    39608 non-null  float64\n",
            " 9   X_09    39608 non-null  float64\n",
            " 10  X_10    39608 non-null  float64\n",
            " 11  X_11    39608 non-null  float64\n",
            " 12  X_12    39608 non-null  float64\n",
            " 13  X_13    39608 non-null  float64\n",
            " 14  X_14    39608 non-null  float64\n",
            " 15  X_15    39608 non-null  float64\n",
            " 16  X_16    39608 non-null  float64\n",
            " 17  X_17    39608 non-null  float64\n",
            " 18  X_18    39608 non-null  float64\n",
            " 19  X_19    39608 non-null  float64\n",
            " 20  X_20    39608 non-null  float64\n",
            " 21  X_21    39608 non-null  float64\n",
            " 22  X_22    39608 non-null  float64\n",
            " 23  X_23    39608 non-null  int64  \n",
            " 24  X_24    39608 non-null  float64\n",
            " 25  X_25    39608 non-null  float64\n",
            " 26  X_26    39608 non-null  float64\n",
            " 27  X_27    39608 non-null  float64\n",
            " 28  X_28    39608 non-null  float64\n",
            " 29  X_29    39608 non-null  float64\n",
            " 30  X_30    39608 non-null  float64\n",
            " 31  X_31    39608 non-null  float64\n",
            " 32  X_32    39608 non-null  float64\n",
            " 33  X_33    39608 non-null  float64\n",
            " 34  X_34    39608 non-null  float64\n",
            " 35  X_35    39608 non-null  float64\n",
            " 36  X_36    39608 non-null  float64\n",
            " 37  X_37    39608 non-null  float64\n",
            " 38  X_38    39608 non-null  float64\n",
            " 39  X_39    39608 non-null  float64\n",
            " 40  X_40    39608 non-null  float64\n",
            " 41  X_41    39608 non-null  float64\n",
            " 42  X_42    39608 non-null  float64\n",
            " 43  X_43    39608 non-null  float64\n",
            " 44  X_44    39608 non-null  float64\n",
            " 45  X_45    39608 non-null  float64\n",
            " 46  X_46    39608 non-null  int64  \n",
            " 47  X_47    39608 non-null  int64  \n",
            " 48  X_48    39608 non-null  int64  \n",
            " 49  X_49    39608 non-null  float64\n",
            " 50  X_50    39608 non-null  float64\n",
            " 51  X_51    39608 non-null  float64\n",
            " 52  X_52    39608 non-null  float64\n",
            " 53  X_53    39608 non-null  float64\n",
            " 54  X_54    39608 non-null  float64\n",
            " 55  X_55    39608 non-null  float64\n",
            " 56  X_56    39608 non-null  float64\n",
            "dtypes: float64(51), int64(5), object(1)\n",
            "memory usage: 17.2+ MB\n"
          ]
        }
      ]
    },
    {
      "cell_type": "code",
      "source": [
        "train.describe()"
      ],
      "metadata": {
        "colab": {
          "base_uri": "https://localhost:8080/",
          "height": 330
        },
        "id": "fb1eBiKCz86I",
        "outputId": "8ecde34b-a34f-48dd-8a1c-ffa30c176d02"
      },
      "execution_count": 18,
      "outputs": [
        {
          "output_type": "execute_result",
          "data": {
            "text/plain": [
              "               X_01          X_02          X_03     X_04          X_05  \\\n",
              "count  39607.000000  39607.000000  39607.000000  39607.0  39607.000000   \n",
              "mean      68.412040    103.320166     68.826354      1.0    102.337203   \n",
              "std        2.655983      0.000372      5.151167      0.0      0.548353   \n",
              "min       56.268000    103.320000     56.470000      1.0    101.774000   \n",
              "25%       66.465000    103.320000     65.070000      1.0    101.949000   \n",
              "50%       68.504000    103.320000     67.270000      1.0    102.006000   \n",
              "75%       69.524000    103.320000     71.770000      1.0    103.144000   \n",
              "max       84.820000    103.321000     89.170000      1.0    103.160000   \n",
              "\n",
              "               X_06          X_07          X_08          X_09          X_10  \\\n",
              "count  39607.000000  39607.000000  39607.000000  39607.000000  39607.000000   \n",
              "mean      70.597211     29.407490    164.449320    225.397470      0.002449   \n",
              "std        2.259820      7.338204    220.402444     66.734725      0.086255   \n",
              "min       61.726000     14.140000     38.460000     37.580000      0.000000   \n",
              "25%       68.864000     27.890000    105.990000    188.540000      0.000000   \n",
              "50%       69.884000     28.840000    115.040000    234.450000      0.000000   \n",
              "75%       71.923000     29.870000    132.620000    263.960000      0.000000   \n",
              "max       87.219000    163.860000   2387.440000    637.490000      3.600000   \n",
              "\n",
              "       ...          Y_05          Y_06          Y_07          Y_08  \\\n",
              "count  ...  39607.000000  39607.000000  39607.000000  39607.000000   \n",
              "mean   ...     31.290467     16.529382      3.155054    -26.294839   \n",
              "std    ...      2.543222      1.893014      0.418940      0.660537   \n",
              "min    ...     18.589000    -19.963000      0.502000    -29.652000   \n",
              "25%    ...     29.768000     16.146000      2.863000    -26.689000   \n",
              "50%    ...     31.710000     16.694000      3.126000    -26.254000   \n",
              "75%    ...     33.184000     17.164000      3.433500    -25.855000   \n",
              "max    ...     37.250000     18.998000      5.299000    -23.785000   \n",
              "\n",
              "               Y_09          Y_10          Y_11          Y_12          Y_13  \\\n",
              "count  39607.000000  39607.000000  39607.000000  39607.000000  39607.000000   \n",
              "mean     -26.308623    -22.400062     24.325061    -26.237762    -26.233869   \n",
              "std        0.653580      0.920952      0.830197      0.656329      0.655090   \n",
              "min      -29.523000    -31.119000     19.844000    -29.544000    -29.448000   \n",
              "25%      -26.702000    -22.871000     23.836000    -26.630000    -26.624000   \n",
              "50%      -26.266000    -22.275000     24.420000    -26.198000    -26.193000   \n",
              "75%      -25.871000    -21.791000     24.911500    -25.799000    -25.794000   \n",
              "max      -23.960000    -20.052000     26.703000    -23.722000    -23.899000   \n",
              "\n",
              "               Y_14  \n",
              "count  39607.000000  \n",
              "mean     -26.245868  \n",
              "std        0.655989  \n",
              "min      -29.620000  \n",
              "25%      -26.640000  \n",
              "50%      -26.204000  \n",
              "75%      -25.809000  \n",
              "max      -23.856000  \n",
              "\n",
              "[8 rows x 70 columns]"
            ],
            "text/html": [
              "\n",
              "  <div id=\"df-cb685262-fa42-4a59-b433-8c900e2a7174\" class=\"colab-df-container\">\n",
              "    <div>\n",
              "<style scoped>\n",
              "    .dataframe tbody tr th:only-of-type {\n",
              "        vertical-align: middle;\n",
              "    }\n",
              "\n",
              "    .dataframe tbody tr th {\n",
              "        vertical-align: top;\n",
              "    }\n",
              "\n",
              "    .dataframe thead th {\n",
              "        text-align: right;\n",
              "    }\n",
              "</style>\n",
              "<table border=\"1\" class=\"dataframe\">\n",
              "  <thead>\n",
              "    <tr style=\"text-align: right;\">\n",
              "      <th></th>\n",
              "      <th>X_01</th>\n",
              "      <th>X_02</th>\n",
              "      <th>X_03</th>\n",
              "      <th>X_04</th>\n",
              "      <th>X_05</th>\n",
              "      <th>X_06</th>\n",
              "      <th>X_07</th>\n",
              "      <th>X_08</th>\n",
              "      <th>X_09</th>\n",
              "      <th>X_10</th>\n",
              "      <th>...</th>\n",
              "      <th>Y_05</th>\n",
              "      <th>Y_06</th>\n",
              "      <th>Y_07</th>\n",
              "      <th>Y_08</th>\n",
              "      <th>Y_09</th>\n",
              "      <th>Y_10</th>\n",
              "      <th>Y_11</th>\n",
              "      <th>Y_12</th>\n",
              "      <th>Y_13</th>\n",
              "      <th>Y_14</th>\n",
              "    </tr>\n",
              "  </thead>\n",
              "  <tbody>\n",
              "    <tr>\n",
              "      <th>count</th>\n",
              "      <td>39607.000000</td>\n",
              "      <td>39607.000000</td>\n",
              "      <td>39607.000000</td>\n",
              "      <td>39607.0</td>\n",
              "      <td>39607.000000</td>\n",
              "      <td>39607.000000</td>\n",
              "      <td>39607.000000</td>\n",
              "      <td>39607.000000</td>\n",
              "      <td>39607.000000</td>\n",
              "      <td>39607.000000</td>\n",
              "      <td>...</td>\n",
              "      <td>39607.000000</td>\n",
              "      <td>39607.000000</td>\n",
              "      <td>39607.000000</td>\n",
              "      <td>39607.000000</td>\n",
              "      <td>39607.000000</td>\n",
              "      <td>39607.000000</td>\n",
              "      <td>39607.000000</td>\n",
              "      <td>39607.000000</td>\n",
              "      <td>39607.000000</td>\n",
              "      <td>39607.000000</td>\n",
              "    </tr>\n",
              "    <tr>\n",
              "      <th>mean</th>\n",
              "      <td>68.412040</td>\n",
              "      <td>103.320166</td>\n",
              "      <td>68.826354</td>\n",
              "      <td>1.0</td>\n",
              "      <td>102.337203</td>\n",
              "      <td>70.597211</td>\n",
              "      <td>29.407490</td>\n",
              "      <td>164.449320</td>\n",
              "      <td>225.397470</td>\n",
              "      <td>0.002449</td>\n",
              "      <td>...</td>\n",
              "      <td>31.290467</td>\n",
              "      <td>16.529382</td>\n",
              "      <td>3.155054</td>\n",
              "      <td>-26.294839</td>\n",
              "      <td>-26.308623</td>\n",
              "      <td>-22.400062</td>\n",
              "      <td>24.325061</td>\n",
              "      <td>-26.237762</td>\n",
              "      <td>-26.233869</td>\n",
              "      <td>-26.245868</td>\n",
              "    </tr>\n",
              "    <tr>\n",
              "      <th>std</th>\n",
              "      <td>2.655983</td>\n",
              "      <td>0.000372</td>\n",
              "      <td>5.151167</td>\n",
              "      <td>0.0</td>\n",
              "      <td>0.548353</td>\n",
              "      <td>2.259820</td>\n",
              "      <td>7.338204</td>\n",
              "      <td>220.402444</td>\n",
              "      <td>66.734725</td>\n",
              "      <td>0.086255</td>\n",
              "      <td>...</td>\n",
              "      <td>2.543222</td>\n",
              "      <td>1.893014</td>\n",
              "      <td>0.418940</td>\n",
              "      <td>0.660537</td>\n",
              "      <td>0.653580</td>\n",
              "      <td>0.920952</td>\n",
              "      <td>0.830197</td>\n",
              "      <td>0.656329</td>\n",
              "      <td>0.655090</td>\n",
              "      <td>0.655989</td>\n",
              "    </tr>\n",
              "    <tr>\n",
              "      <th>min</th>\n",
              "      <td>56.268000</td>\n",
              "      <td>103.320000</td>\n",
              "      <td>56.470000</td>\n",
              "      <td>1.0</td>\n",
              "      <td>101.774000</td>\n",
              "      <td>61.726000</td>\n",
              "      <td>14.140000</td>\n",
              "      <td>38.460000</td>\n",
              "      <td>37.580000</td>\n",
              "      <td>0.000000</td>\n",
              "      <td>...</td>\n",
              "      <td>18.589000</td>\n",
              "      <td>-19.963000</td>\n",
              "      <td>0.502000</td>\n",
              "      <td>-29.652000</td>\n",
              "      <td>-29.523000</td>\n",
              "      <td>-31.119000</td>\n",
              "      <td>19.844000</td>\n",
              "      <td>-29.544000</td>\n",
              "      <td>-29.448000</td>\n",
              "      <td>-29.620000</td>\n",
              "    </tr>\n",
              "    <tr>\n",
              "      <th>25%</th>\n",
              "      <td>66.465000</td>\n",
              "      <td>103.320000</td>\n",
              "      <td>65.070000</td>\n",
              "      <td>1.0</td>\n",
              "      <td>101.949000</td>\n",
              "      <td>68.864000</td>\n",
              "      <td>27.890000</td>\n",
              "      <td>105.990000</td>\n",
              "      <td>188.540000</td>\n",
              "      <td>0.000000</td>\n",
              "      <td>...</td>\n",
              "      <td>29.768000</td>\n",
              "      <td>16.146000</td>\n",
              "      <td>2.863000</td>\n",
              "      <td>-26.689000</td>\n",
              "      <td>-26.702000</td>\n",
              "      <td>-22.871000</td>\n",
              "      <td>23.836000</td>\n",
              "      <td>-26.630000</td>\n",
              "      <td>-26.624000</td>\n",
              "      <td>-26.640000</td>\n",
              "    </tr>\n",
              "    <tr>\n",
              "      <th>50%</th>\n",
              "      <td>68.504000</td>\n",
              "      <td>103.320000</td>\n",
              "      <td>67.270000</td>\n",
              "      <td>1.0</td>\n",
              "      <td>102.006000</td>\n",
              "      <td>69.884000</td>\n",
              "      <td>28.840000</td>\n",
              "      <td>115.040000</td>\n",
              "      <td>234.450000</td>\n",
              "      <td>0.000000</td>\n",
              "      <td>...</td>\n",
              "      <td>31.710000</td>\n",
              "      <td>16.694000</td>\n",
              "      <td>3.126000</td>\n",
              "      <td>-26.254000</td>\n",
              "      <td>-26.266000</td>\n",
              "      <td>-22.275000</td>\n",
              "      <td>24.420000</td>\n",
              "      <td>-26.198000</td>\n",
              "      <td>-26.193000</td>\n",
              "      <td>-26.204000</td>\n",
              "    </tr>\n",
              "    <tr>\n",
              "      <th>75%</th>\n",
              "      <td>69.524000</td>\n",
              "      <td>103.320000</td>\n",
              "      <td>71.770000</td>\n",
              "      <td>1.0</td>\n",
              "      <td>103.144000</td>\n",
              "      <td>71.923000</td>\n",
              "      <td>29.870000</td>\n",
              "      <td>132.620000</td>\n",
              "      <td>263.960000</td>\n",
              "      <td>0.000000</td>\n",
              "      <td>...</td>\n",
              "      <td>33.184000</td>\n",
              "      <td>17.164000</td>\n",
              "      <td>3.433500</td>\n",
              "      <td>-25.855000</td>\n",
              "      <td>-25.871000</td>\n",
              "      <td>-21.791000</td>\n",
              "      <td>24.911500</td>\n",
              "      <td>-25.799000</td>\n",
              "      <td>-25.794000</td>\n",
              "      <td>-25.809000</td>\n",
              "    </tr>\n",
              "    <tr>\n",
              "      <th>max</th>\n",
              "      <td>84.820000</td>\n",
              "      <td>103.321000</td>\n",
              "      <td>89.170000</td>\n",
              "      <td>1.0</td>\n",
              "      <td>103.160000</td>\n",
              "      <td>87.219000</td>\n",
              "      <td>163.860000</td>\n",
              "      <td>2387.440000</td>\n",
              "      <td>637.490000</td>\n",
              "      <td>3.600000</td>\n",
              "      <td>...</td>\n",
              "      <td>37.250000</td>\n",
              "      <td>18.998000</td>\n",
              "      <td>5.299000</td>\n",
              "      <td>-23.785000</td>\n",
              "      <td>-23.960000</td>\n",
              "      <td>-20.052000</td>\n",
              "      <td>26.703000</td>\n",
              "      <td>-23.722000</td>\n",
              "      <td>-23.899000</td>\n",
              "      <td>-23.856000</td>\n",
              "    </tr>\n",
              "  </tbody>\n",
              "</table>\n",
              "<p>8 rows × 70 columns</p>\n",
              "</div>\n",
              "    <div class=\"colab-df-buttons\">\n",
              "\n",
              "  <div class=\"colab-df-container\">\n",
              "    <button class=\"colab-df-convert\" onclick=\"convertToInteractive('df-cb685262-fa42-4a59-b433-8c900e2a7174')\"\n",
              "            title=\"Convert this dataframe to an interactive table.\"\n",
              "            style=\"display:none;\">\n",
              "\n",
              "  <svg xmlns=\"http://www.w3.org/2000/svg\" height=\"24px\" viewBox=\"0 -960 960 960\">\n",
              "    <path d=\"M120-120v-720h720v720H120Zm60-500h600v-160H180v160Zm220 220h160v-160H400v160Zm0 220h160v-160H400v160ZM180-400h160v-160H180v160Zm440 0h160v-160H620v160ZM180-180h160v-160H180v160Zm440 0h160v-160H620v160Z\"/>\n",
              "  </svg>\n",
              "    </button>\n",
              "\n",
              "  <style>\n",
              "    .colab-df-container {\n",
              "      display:flex;\n",
              "      gap: 12px;\n",
              "    }\n",
              "\n",
              "    .colab-df-convert {\n",
              "      background-color: #E8F0FE;\n",
              "      border: none;\n",
              "      border-radius: 50%;\n",
              "      cursor: pointer;\n",
              "      display: none;\n",
              "      fill: #1967D2;\n",
              "      height: 32px;\n",
              "      padding: 0 0 0 0;\n",
              "      width: 32px;\n",
              "    }\n",
              "\n",
              "    .colab-df-convert:hover {\n",
              "      background-color: #E2EBFA;\n",
              "      box-shadow: 0px 1px 2px rgba(60, 64, 67, 0.3), 0px 1px 3px 1px rgba(60, 64, 67, 0.15);\n",
              "      fill: #174EA6;\n",
              "    }\n",
              "\n",
              "    .colab-df-buttons div {\n",
              "      margin-bottom: 4px;\n",
              "    }\n",
              "\n",
              "    [theme=dark] .colab-df-convert {\n",
              "      background-color: #3B4455;\n",
              "      fill: #D2E3FC;\n",
              "    }\n",
              "\n",
              "    [theme=dark] .colab-df-convert:hover {\n",
              "      background-color: #434B5C;\n",
              "      box-shadow: 0px 1px 3px 1px rgba(0, 0, 0, 0.15);\n",
              "      filter: drop-shadow(0px 1px 2px rgba(0, 0, 0, 0.3));\n",
              "      fill: #FFFFFF;\n",
              "    }\n",
              "  </style>\n",
              "\n",
              "    <script>\n",
              "      const buttonEl =\n",
              "        document.querySelector('#df-cb685262-fa42-4a59-b433-8c900e2a7174 button.colab-df-convert');\n",
              "      buttonEl.style.display =\n",
              "        google.colab.kernel.accessAllowed ? 'block' : 'none';\n",
              "\n",
              "      async function convertToInteractive(key) {\n",
              "        const element = document.querySelector('#df-cb685262-fa42-4a59-b433-8c900e2a7174');\n",
              "        const dataTable =\n",
              "          await google.colab.kernel.invokeFunction('convertToInteractive',\n",
              "                                                    [key], {});\n",
              "        if (!dataTable) return;\n",
              "\n",
              "        const docLinkHtml = 'Like what you see? Visit the ' +\n",
              "          '<a target=\"_blank\" href=https://colab.research.google.com/notebooks/data_table.ipynb>data table notebook</a>'\n",
              "          + ' to learn more about interactive tables.';\n",
              "        element.innerHTML = '';\n",
              "        dataTable['output_type'] = 'display_data';\n",
              "        await google.colab.output.renderOutput(dataTable, element);\n",
              "        const docLink = document.createElement('div');\n",
              "        docLink.innerHTML = docLinkHtml;\n",
              "        element.appendChild(docLink);\n",
              "      }\n",
              "    </script>\n",
              "  </div>\n",
              "\n",
              "\n",
              "    <div id=\"df-f8b6cb04-1f4b-4b83-9d47-94db78439c84\">\n",
              "      <button class=\"colab-df-quickchart\" onclick=\"quickchart('df-f8b6cb04-1f4b-4b83-9d47-94db78439c84')\"\n",
              "                title=\"Suggest charts\"\n",
              "                style=\"display:none;\">\n",
              "\n",
              "<svg xmlns=\"http://www.w3.org/2000/svg\" height=\"24px\"viewBox=\"0 0 24 24\"\n",
              "     width=\"24px\">\n",
              "    <g>\n",
              "        <path d=\"M19 3H5c-1.1 0-2 .9-2 2v14c0 1.1.9 2 2 2h14c1.1 0 2-.9 2-2V5c0-1.1-.9-2-2-2zM9 17H7v-7h2v7zm4 0h-2V7h2v10zm4 0h-2v-4h2v4z\"/>\n",
              "    </g>\n",
              "</svg>\n",
              "      </button>\n",
              "\n",
              "<style>\n",
              "  .colab-df-quickchart {\n",
              "      --bg-color: #E8F0FE;\n",
              "      --fill-color: #1967D2;\n",
              "      --hover-bg-color: #E2EBFA;\n",
              "      --hover-fill-color: #174EA6;\n",
              "      --disabled-fill-color: #AAA;\n",
              "      --disabled-bg-color: #DDD;\n",
              "  }\n",
              "\n",
              "  [theme=dark] .colab-df-quickchart {\n",
              "      --bg-color: #3B4455;\n",
              "      --fill-color: #D2E3FC;\n",
              "      --hover-bg-color: #434B5C;\n",
              "      --hover-fill-color: #FFFFFF;\n",
              "      --disabled-bg-color: #3B4455;\n",
              "      --disabled-fill-color: #666;\n",
              "  }\n",
              "\n",
              "  .colab-df-quickchart {\n",
              "    background-color: var(--bg-color);\n",
              "    border: none;\n",
              "    border-radius: 50%;\n",
              "    cursor: pointer;\n",
              "    display: none;\n",
              "    fill: var(--fill-color);\n",
              "    height: 32px;\n",
              "    padding: 0;\n",
              "    width: 32px;\n",
              "  }\n",
              "\n",
              "  .colab-df-quickchart:hover {\n",
              "    background-color: var(--hover-bg-color);\n",
              "    box-shadow: 0 1px 2px rgba(60, 64, 67, 0.3), 0 1px 3px 1px rgba(60, 64, 67, 0.15);\n",
              "    fill: var(--button-hover-fill-color);\n",
              "  }\n",
              "\n",
              "  .colab-df-quickchart-complete:disabled,\n",
              "  .colab-df-quickchart-complete:disabled:hover {\n",
              "    background-color: var(--disabled-bg-color);\n",
              "    fill: var(--disabled-fill-color);\n",
              "    box-shadow: none;\n",
              "  }\n",
              "\n",
              "  .colab-df-spinner {\n",
              "    border: 2px solid var(--fill-color);\n",
              "    border-color: transparent;\n",
              "    border-bottom-color: var(--fill-color);\n",
              "    animation:\n",
              "      spin 1s steps(1) infinite;\n",
              "  }\n",
              "\n",
              "  @keyframes spin {\n",
              "    0% {\n",
              "      border-color: transparent;\n",
              "      border-bottom-color: var(--fill-color);\n",
              "      border-left-color: var(--fill-color);\n",
              "    }\n",
              "    20% {\n",
              "      border-color: transparent;\n",
              "      border-left-color: var(--fill-color);\n",
              "      border-top-color: var(--fill-color);\n",
              "    }\n",
              "    30% {\n",
              "      border-color: transparent;\n",
              "      border-left-color: var(--fill-color);\n",
              "      border-top-color: var(--fill-color);\n",
              "      border-right-color: var(--fill-color);\n",
              "    }\n",
              "    40% {\n",
              "      border-color: transparent;\n",
              "      border-right-color: var(--fill-color);\n",
              "      border-top-color: var(--fill-color);\n",
              "    }\n",
              "    60% {\n",
              "      border-color: transparent;\n",
              "      border-right-color: var(--fill-color);\n",
              "    }\n",
              "    80% {\n",
              "      border-color: transparent;\n",
              "      border-right-color: var(--fill-color);\n",
              "      border-bottom-color: var(--fill-color);\n",
              "    }\n",
              "    90% {\n",
              "      border-color: transparent;\n",
              "      border-bottom-color: var(--fill-color);\n",
              "    }\n",
              "  }\n",
              "</style>\n",
              "\n",
              "      <script>\n",
              "        async function quickchart(key) {\n",
              "          const quickchartButtonEl =\n",
              "            document.querySelector('#' + key + ' button');\n",
              "          quickchartButtonEl.disabled = true;  // To prevent multiple clicks.\n",
              "          quickchartButtonEl.classList.add('colab-df-spinner');\n",
              "          try {\n",
              "            const charts = await google.colab.kernel.invokeFunction(\n",
              "                'suggestCharts', [key], {});\n",
              "          } catch (error) {\n",
              "            console.error('Error during call to suggestCharts:', error);\n",
              "          }\n",
              "          quickchartButtonEl.classList.remove('colab-df-spinner');\n",
              "          quickchartButtonEl.classList.add('colab-df-quickchart-complete');\n",
              "        }\n",
              "        (() => {\n",
              "          let quickchartButtonEl =\n",
              "            document.querySelector('#df-f8b6cb04-1f4b-4b83-9d47-94db78439c84 button');\n",
              "          quickchartButtonEl.style.display =\n",
              "            google.colab.kernel.accessAllowed ? 'block' : 'none';\n",
              "        })();\n",
              "      </script>\n",
              "    </div>\n",
              "\n",
              "    </div>\n",
              "  </div>\n"
            ],
            "application/vnd.google.colaboratory.intrinsic+json": {
              "type": "dataframe"
            }
          },
          "metadata": {},
          "execution_count": 18
        }
      ]
    },
    {
      "cell_type": "code",
      "source": [
        "#이상치 NRMSE 가 이상치에 영향을 많이받는다는 말이 있음.\n",
        "import matplotlib.pyplot as plt\n",
        "import seaborn as sns\n",
        "\n",
        "num_cols = train.select_dtypes(include='number').columns\n",
        "\n",
        "# Boxplot\n",
        "plt.figure(figsize=(15, 8))\n",
        "train[num_cols].boxplot(rot=45)\n",
        "plt.title(\"Boxplot\")\n",
        "plt.tight_layout()\n",
        "plt.show()\n"
      ],
      "metadata": {
        "colab": {
          "base_uri": "https://localhost:8080/",
          "height": 807
        },
        "id": "o1l8QHQR1-Lh",
        "outputId": "bf60f87d-07a6-4e7c-eac4-a1fa65e8790b"
      },
      "execution_count": 19,
      "outputs": [
        {
          "output_type": "display_data",
          "data": {
            "text/plain": [
              "<Figure size 1500x800 with 1 Axes>"
            ],
            "image/png": "[encoded data removed]"
          },
          "metadata": {}
        }
      ]
    },
    {
      "cell_type": "code",
      "source": [
        "import matplotlib.pyplot as plt\n",
        "\n",
        "# 수치형 컬럼 중에서 49번째 컬럼 제외\n",
        "num_cols = train.select_dtypes(include='number').columns\n",
        "drop_cols = [num_cols[48], num_cols[7], num_cols[8], num_cols[45]]\n",
        "filtered_cols = num_cols.drop(drop_cols)  # 8 , 9, 46\n",
        "\n",
        "# Boxplot 그리기\n",
        "plt.figure(figsize=(15, 8))\n",
        "train[filtered_cols].boxplot(rot=45)\n",
        "plt.title(\"Boxplot\")\n",
        "plt.tight_layout()\n",
        "plt.show()\n"
      ],
      "metadata": {
        "colab": {
          "base_uri": "https://localhost:8080/",
          "height": 807
        },
        "id": "RMNxIeh42xM5",
        "outputId": "90176443-3d57-4e53-9dd0-d7fcd1145f83"
      },
      "execution_count": 20,
      "outputs": [
        {
          "output_type": "display_data",
          "data": {
            "text/plain": [
              "<Figure size 1500x800 with 1 Axes>"
            ],
            "image/png": "[encoded data removed]"
          },
          "metadata": {}
        }
      ]
    },
    {
      "cell_type": "code",
      "source": [
        "from sklearn.model_selection import train_test_split\n",
        "from sklearn.ensemble import RandomForestRegressor\n",
        "from sklearn.linear_model import LinearRegression\n",
        "from sklearn.preprocessing import StandardScaler\n",
        "from sklearn.metrics import mean_squared_error\n",
        "import numpy as np\n",
        "\n",
        "\n",
        "X = train.filter(regex='X') # Input : X Featrue\n",
        "y = train.filter(regex='Y') # Output : Y Feature\n",
        "print(X.shape, y.shape)"
      ],
      "metadata": {
        "colab": {
          "base_uri": "https://localhost:8080/"
        },
        "id": "wx7R1WEu3NYT",
        "outputId": "c475f11d-9d31-4a51-9d29-24e5d2f2d88e"
      },
      "execution_count": 21,
      "outputs": [
        {
          "output_type": "stream",
          "name": "stdout",
          "text": [
            "(39607, 56) (39607, 14)\n"
          ]
        }
      ]
    },
    {
      "cell_type": "code",
      "source": [
        "import pandas as pd\n",
        "import numpy as np\n",
        "from sklearn.model_selection import train_test_split\n",
        "from sklearn.ensemble import RandomForestRegressor\n",
        "from sklearn.linear_model import LinearRegression\n",
        "from sklearn.preprocessing import StandardScaler\n",
        "from sklearn import metrics\n",
        "\n",
        "# 1. 데이터 로드\n",
        "train = pd.read_csv(\"/content/drive/MyDrive/LG Almers/LG Aimers 1기_datasets/train.csv\")\n",
        "test = pd.read_csv(\"/content/drive/MyDrive/LG Almers/LG Aimers 1기_datasets/test.csv\")\n",
        "\n",
        "# 2. 입력/출력 나누기\n",
        "X = train.filter(regex='^X')\n",
        "y = train.filter(regex='^Y')\n",
        "print(f\"X shape: {X.shape}, y shape: {y.shape}\")\n",
        "\n",
        "# 3. 학습/검증 데이터 분리\n",
        "X_train, X_val, y_train, y_val = train_test_split(X, y, test_size=0.2, random_state=42)\n",
        "\n",
        "# 4. LG NRMSE 평가 함수\n",
        "def lg_nrmse(gt, preds):\n",
        "    all_nrmse = []\n",
        "    for idx in range(14):  # Y_01 ~ Y_14\n",
        "        mse = metrics.mean_squared_error(gt[:, idx], preds[:, idx])  # squared=False 제거\n",
        "        rmse = np.sqrt(mse)  # 직접 제곱근 계산\n",
        "        nrmse = rmse / np.mean(np.abs(gt[:, idx]))\n",
        "        all_nrmse.append(nrmse)\n",
        "    score = 1.2 * np.sum(all_nrmse[:8]) + 1.0 * np.sum(all_nrmse[8:])\n",
        "    return score\n",
        "\n",
        "\n",
        "# 5. RandomForest (스케일링 없음)\n",
        "rf = RandomForestRegressor(n_estimators=20, random_state=42)\n",
        "rf.fit(X_train, y_train)\n",
        "rf_preds = rf.predict(X_val)\n",
        "rf_score = lg_nrmse(y_val.values, rf_preds)\n",
        "\n",
        "# 6. LinearRegression (스케일링 적용)\n",
        "scaler = StandardScaler()\n",
        "X_train_scaled = scaler.fit_transform(X_train)\n",
        "X_val_scaled = scaler.transform(X_val)\n",
        "\n",
        "lr = LinearRegression()\n",
        "lr.fit(X_train_scaled, y_train)\n",
        "lr_preds = lr.predict(X_val_scaled)\n",
        "lr_score = lg_nrmse(y_val.values, lr_preds)\n",
        "\n",
        "# 7. 결과 출력\n",
        "results = pd.DataFrame({\n",
        "    'Model': ['RandomForest (20 trees)', 'LinearRegression'],\n",
        "    'LG_NRMSE': [rf_score, lr_score]\n",
        "})\n",
        "print(\"\\n[모델 성능 비교]\")\n",
        "print(results)\n"
      ],
      "metadata": {
        "colab": {
          "base_uri": "https://localhost:8080/"
        },
        "id": "t3udpC-36si-",
        "outputId": "dba5c217-54ec-4126-de9c-e426a4184bce"
      },
      "execution_count": 24,
      "outputs": [
        {
          "output_type": "stream",
          "name": "stdout",
          "text": [
            "X shape: (39607, 56), y shape: (39607, 14)\n",
            "\n",
            "[모델 성능 비교]\n",
            "                     Model  LG_NRMSE\n",
            "0  RandomForest (20 trees)  1.992262\n",
            "1         LinearRegression  1.971303\n"
          ]
        }
      ]
    },
    {
      "cell_type": "code",
      "source": [
        "from sklearn.preprocessing import MinMaxScaler\n",
        "from sklearn.preprocessing import RobustScaler\n",
        "# 5. RandomForest (스케일링 없음)\n",
        "rf = RandomForestRegressor(n_estimators=20, max_depth = 9, random_state=42)\n",
        "rf.fit(X_train, y_train)\n",
        "rf_preds = rf.predict(X_val)\n",
        "rf_score = lg_nrmse(y_val.values, rf_preds)\n",
        "\n",
        "# 6. LinearRegression (스케일링 적용)\n",
        "scaler = RobustScaler()\n",
        "X_train_scaled = scaler.fit_transform(X_train)\n",
        "X_val_scaled = scaler.transform(X_val)\n",
        "\n",
        "lr = LinearRegression()\n",
        "lr.fit(X_train_scaled, y_train)\n",
        "lr_preds = lr.predict(X_val_scaled)\n",
        "lr_score = lg_nrmse(y_val.values, lr_preds)\n",
        "\n",
        "results = pd.DataFrame({\n",
        "    'Model': ['RandomForest (20 trees)', 'LinearRegression'],\n",
        "    'LG_NRMSE': [rf_score, lr_score]\n",
        "})\n",
        "print(\"\\n[모델 성능 비교]\")\n",
        "print(results)"
      ],
      "metadata": {
        "colab": {
          "base_uri": "https://localhost:8080/"
        },
        "id": "on0QWWLN-u4_",
        "outputId": "3f2d70c5-53f0-46b4-9fbe-af01bbc86969"
      },
      "execution_count": 25,
      "outputs": [
        {
          "output_type": "stream",
          "name": "stdout",
          "text": [
            "\n",
            "[모델 성능 비교]\n",
            "                     Model  LG_NRMSE\n",
            "0  RandomForest (20 trees)  1.968396\n",
            "1         LinearRegression  1.971303\n"
          ]
        }
      ]
    },
    {
      "cell_type": "code",
      "source": [
        "scaler = MinMaxScaler()\n",
        "X_train_scaled = scaler.fit_transform(X_train)\n",
        "X_val_scaled = scaler.transform(X_val)\n",
        "\n",
        "lr = LinearRegression()\n",
        "lr.fit(X_train_scaled, y_train)\n",
        "lr_preds = lr.predict(X_val_scaled)\n",
        "lr_score = lg_nrmse(y_val.values, lr_preds)\n",
        "print(f\"[LinearRegression (MinMax)] LG_NRMSE: {lr_score:.4f}\")"
      ],
      "metadata": {
        "colab": {
          "base_uri": "https://localhost:8080/"
        },
        "id": "6gyWcCJBBMkr",
        "outputId": "35e1f049-d34e-41af-cf23-b40ab0a804f1"
      },
      "execution_count": 26,
      "outputs": [
        {
          "output_type": "stream",
          "name": "stdout",
          "text": [
            "[LinearRegression (MinMax)] LG_NRMSE: 1.9713\n"
          ]
        }
      ]
    },
    {
      "cell_type": "code",
      "source": [
        "from xgboost import XGBRegressor\n",
        "from sklearn.multioutput import MultiOutputRegressor\n",
        "\n",
        "xgb_base = XGBRegressor(n_estimators=100, max_depth=5, random_state=42)\n",
        "xgb = MultiOutputRegressor(xgb_base)\n",
        "\n",
        "xgb.fit(X_train, y_train)\n",
        "xgb_preds = xgb.predict(X_val)\n",
        "score = lg_nrmse(y_val.values, xgb_preds)\n",
        "print(f\"[XGBoost (max_depth=5)] LG_NRMSE: {score:.4f}\")"
      ],
      "metadata": {
        "colab": {
          "base_uri": "https://localhost:8080/"
        },
        "id": "4nDJPaFgBhQg",
        "outputId": "517ee276-6c2b-4a6f-fc6f-37ac9a797e49"
      },
      "execution_count": 29,
      "outputs": [
        {
          "output_type": "stream",
          "name": "stdout",
          "text": [
            "[XGBoost (max_depth=5)] LG_NRMSE: 1.9764\n"
          ]
        }
      ]
    },
    {
      "cell_type": "code",
      "source": [
        "rf = RandomForestRegressor(n_estimators=30, max_depth = 9, random_state=42)\n",
        "rf.fit(X_train, y_train)\n",
        "rf_preds = rf.predict(X_val)\n",
        "rf_score = lg_nrmse(y_val.values, rf_preds)\n",
        "print(f\"[RandomForest (max_depth=9)] LG_NRMSE: {rf_score:.4f}\")"
      ],
      "metadata": {
        "colab": {
          "base_uri": "https://localhost:8080/"
        },
        "id": "Z28Dgl9fCnEu",
        "outputId": "4d489ade-33e6-487f-bfa5-defa215d23ef"
      },
      "execution_count": 35,
      "outputs": [
        {
          "output_type": "stream",
          "name": "stdout",
          "text": [
            "[RandomForest (max_depth=9)] LG_NRMSE: 1.9613\n"
          ]
        }
      ]
    },
    {
      "cell_type": "code",
      "source": [
        "# 1. RandomForest -- baseline(n_estimators=20, random_state=42) : 1.992262\n",
        "# 2. LinearRegreession(Standard Scaler) : 1.971303\n",
        "# 3. RandomForest(baseline + maxdepth = 7) : 1.968396 # 230등\n",
        "# 4. LinearRegreession(RobustScaler), LinearRegression (MinMax) : 1.971303 // 변화없음\n",
        "# 5. XGboost(n_estimators=100, max_depth=5, random_state=42) : 1.9764\n",
        "# ----------------------------------------------------------------------------\n",
        "# 위에서 젤 높은거 RandomForest 로 튜닝해보겟음\n",
        "# 1. RandomForest(baseline + maxdepth = 9) : 1.9627 # 134등\n",
        "# 2. RandomForestRegressor(n_estimators=30, max_depth = 9, random_state=42) : 1.9613 #110등"
      ],
      "metadata": {
        "id": "Od6SjCrU927s"
      },
      "execution_count": null,
      "outputs": []
    },
    {
      "cell_type": "code",
      "source": [
        "!pip install optuna"
      ],
      "metadata": {
        "colab": {
          "base_uri": "https://localhost:8080/"
        },
        "id": "fOfa4QlDFr49",
        "outputId": "881ad999-c8c0-40db-e45b-bb2c485d10b8"
      },
      "execution_count": 37,
      "outputs": [
        {
          "output_type": "stream",
          "name": "stdout",
          "text": [
            "Collecting optuna\n",
            "  Downloading optuna-4.4.0-py3-none-any.whl.metadata (17 kB)\n",
            "Collecting alembic>=1.5.0 (from optuna)\n",
            "  Downloading alembic-1.16.3-py3-none-any.whl.metadata (7.3 kB)\n",
            "Collecting colorlog (from optuna)\n",
            "  Downloading colorlog-6.9.0-py3-none-any.whl.metadata (10 kB)\n",
            "Requirement already satisfied: numpy in /usr/local/lib/python3.11/dist-packages (from optuna) (2.0.2)\n",
            "Requirement already satisfied: packaging>=20.0 in /usr/local/lib/python3.11/dist-packages (from optuna) (24.2)\n",
            "Requirement already satisfied: sqlalchemy>=1.4.2 in /usr/local/lib/python3.11/dist-packages (from optuna) (2.0.41)\n",
            "Requirement already satisfied: tqdm in /usr/local/lib/python3.11/dist-packages (from optuna) (4.67.1)\n",
            "Requirement already satisfied: PyYAML in /usr/local/lib/python3.11/dist-packages (from optuna) (6.0.2)\n",
            "Requirement already satisfied: Mako in /usr/lib/python3/dist-packages (from alembic>=1.5.0->optuna) (1.1.3)\n",
            "Requirement already satisfied: typing-extensions>=4.12 in /usr/local/lib/python3.11/dist-packages (from alembic>=1.5.0->optuna) (4.14.1)\n",
            "Requirement already satisfied: greenlet>=1 in /usr/local/lib/python3.11/dist-packages (from sqlalchemy>=1.4.2->optuna) (3.2.3)\n",
            "Downloading optuna-4.4.0-py3-none-any.whl (395 kB)\n",
            "\u001b[2K   \u001b[90m━━━━━━━━━━━━━━━━━━━━━━━━━━━━━━━━━━━━━━━━\u001b[0m \u001b[32m395.9/395.9 kB\u001b[0m \u001b[31m14.4 MB/s\u001b[0m eta \u001b[36m0:00:00\u001b[0m\n",
            "\u001b[?25hDownloading alembic-1.16.3-py3-none-any.whl (246 kB)\n",
            "\u001b[2K   \u001b[90m━━━━━━━━━━━━━━━━━━━━━━━━━━━━━━━━━━━━━━━━\u001b[0m \u001b[32m246.9/246.9 kB\u001b[0m \u001b[31m21.0 MB/s\u001b[0m eta \u001b[36m0:00:00\u001b[0m\n",
            "\u001b[?25hDownloading colorlog-6.9.0-py3-none-any.whl (11 kB)\n",
            "Installing collected packages: colorlog, alembic, optuna\n",
            "Successfully installed alembic-1.16.3 colorlog-6.9.0 optuna-4.4.0\n"
          ]
        }
      ]
    },
    {
      "cell_type": "code",
      "source": [
        "# import optuna\n",
        "# from sklearn.ensemble import RandomForestRegressor\n",
        "# from sklearn.multioutput import MultiOutputRegressor\n",
        "\n",
        "# def objective(trial):\n",
        "#     # 하이퍼파라미터 범위 설정\n",
        "\n",
        "#     max_depth = trial.suggest_int('max_depth', 3, 15)\n",
        "#     n_estimators = trial.suggest_int('n_estimators', 10, 100)\n",
        "#     min_samples_leaf = trial.suggest_int('min_samples_leaf', 1, 10)\n",
        "\n",
        "#     rf = RandomForestRegressor(\n",
        "#         max_depth=max_depth,\n",
        "#         n_estimators=n_estimators,\n",
        "#         min_samples_leaf=min_samples_leaf,\n",
        "#         random_state=42\n",
        "#     )\n",
        "\n",
        "#     model = MultiOutputRegressor(rf)\n",
        "#     model.fit(X_train, y_train)\n",
        "#     preds = model.predict(X_val)\n",
        "\n",
        "#     score = lg_nrmse(y_val.values, preds)\n",
        "#     return score  # optuna는 낮은 값이 더 좋은 것으로 간주함"
      ],
      "metadata": {
        "id": "PQjuiIMFFfUj"
      },
      "execution_count": 38,
      "outputs": []
    },
    {
      "cell_type": "code",
      "source": [
        "import optuna\n",
        "from sklearn.ensemble import RandomForestRegressor\n",
        "from sklearn.multioutput import MultiOutputRegressor\n",
        "\n",
        "\n",
        "optuna.logging.set_verbosity(optuna.logging.INFO)\n",
        "\n",
        "\n",
        "storage = \"sqlite:///rf_optuna.db\"\n",
        "\n",
        "study = optuna.create_study(\n",
        "    direction=\"minimize\",\n",
        "    study_name=\"rf_tuning\",\n",
        "    storage=storage,\n",
        "    load_if_exists=True\n",
        ")\n",
        "\n",
        "def objective(trial):\n",
        "    max_depth = trial.suggest_int('max_depth', 3, 12)\n",
        "    n_estimators = trial.suggest_int('n_estimators', 10, 100)\n",
        "    min_samples_leaf = trial.suggest_int('min_samples_leaf', 1, 10)\n",
        "\n",
        "    model = RandomForestRegressor(\n",
        "        max_depth=max_depth,\n",
        "        n_estimators=n_estimators,\n",
        "        min_samples_leaf=min_samples_leaf,\n",
        "        random_state=42,\n",
        "        n_jobs=-1\n",
        "    )\n",
        "    model = MultiOutputRegressor(model)\n",
        "    model.fit(X_train, y_train)\n",
        "    preds = model.predict(X_val)\n",
        "    score = lg_nrmse(y_val.values, preds)\n",
        "\n",
        "    print(f\"[Trial {trial.number}] score={score:.4f} | depth={max_depth}, n_estimators={n_estimators}, min_leaf={min_samples_leaf}\")\n",
        "    return score\n",
        "\n",
        "study.optimize(objective, n_trials=50)"
      ],
      "metadata": {
        "colab": {
          "base_uri": "https://localhost:8080/"
        },
        "id": "bu3eHXsONdW1",
        "outputId": "ad97a431-9185-4435-f381-e0077eb21541"
      },
      "execution_count": null,
      "outputs": [
        {
          "output_type": "stream",
          "name": "stderr",
          "text": [
            "[I 2025-07-10 16:46:20,805] A new study created in RDB with name: rf_tuning\n",
            "[I 2025-07-10 16:47:41,706] Trial 0 finished with value: 1.9723663749027578 and parameters: {'max_depth': 3, 'n_estimators': 45, 'min_samples_leaf': 7}. Best is trial 0 with value: 1.9723663749027578.\n"
          ]
        },
        {
          "output_type": "stream",
          "name": "stdout",
          "text": [
            "[Trial 0] score=1.9724 | depth=3, n_estimators=45, min_leaf=7\n"
          ]
        },
        {
          "output_type": "stream",
          "name": "stderr",
          "text": [
            "[I 2025-07-10 16:50:19,810] Trial 1 finished with value: 1.9726226021847013 and parameters: {'max_depth': 3, 'n_estimators': 89, 'min_samples_leaf': 2}. Best is trial 0 with value: 1.9723663749027578.\n"
          ]
        },
        {
          "output_type": "stream",
          "name": "stdout",
          "text": [
            "[Trial 1] score=1.9726 | depth=3, n_estimators=89, min_leaf=2\n"
          ]
        },
        {
          "output_type": "stream",
          "name": "stderr",
          "text": [
            "[I 2025-07-10 16:51:43,874] Trial 2 finished with value: 1.9561549541697554 and parameters: {'max_depth': 6, 'n_estimators': 24, 'min_samples_leaf': 4}. Best is trial 2 with value: 1.9561549541697554.\n"
          ]
        },
        {
          "output_type": "stream",
          "name": "stdout",
          "text": [
            "[Trial 2] score=1.9562 | depth=6, n_estimators=24, min_leaf=4\n"
          ]
        },
        {
          "output_type": "stream",
          "name": "stderr",
          "text": [
            "[I 2025-07-10 16:57:40,213] Trial 3 finished with value: 1.9489960498136052 and parameters: {'max_depth': 7, 'n_estimators': 88, 'min_samples_leaf': 5}. Best is trial 3 with value: 1.9489960498136052.\n"
          ]
        },
        {
          "output_type": "stream",
          "name": "stdout",
          "text": [
            "[Trial 3] score=1.9490 | depth=7, n_estimators=88, min_leaf=5\n"
          ]
        },
        {
          "output_type": "stream",
          "name": "stderr",
          "text": [
            "[I 2025-07-10 17:00:44,802] Trial 4 finished with value: 1.9495635302603658 and parameters: {'max_depth': 9, 'n_estimators': 35, 'min_samples_leaf': 3}. Best is trial 3 with value: 1.9489960498136052.\n"
          ]
        },
        {
          "output_type": "stream",
          "name": "stdout",
          "text": [
            "[Trial 4] score=1.9496 | depth=9, n_estimators=35, min_leaf=3\n"
          ]
        },
        {
          "output_type": "stream",
          "name": "stderr",
          "text": [
            "[I 2025-07-10 17:02:43,583] Trial 5 finished with value: 1.9523592623086967 and parameters: {'max_depth': 7, 'n_estimators': 29, 'min_samples_leaf': 6}. Best is trial 3 with value: 1.9489960498136052.\n"
          ]
        },
        {
          "output_type": "stream",
          "name": "stdout",
          "text": [
            "[Trial 5] score=1.9524 | depth=7, n_estimators=29, min_leaf=6\n"
          ]
        },
        {
          "output_type": "stream",
          "name": "stderr",
          "text": [
            "[I 2025-07-10 17:05:53,727] Trial 6 finished with value: 1.9467077762182428 and parameters: {'max_depth': 10, 'n_estimators': 33, 'min_samples_leaf': 5}. Best is trial 6 with value: 1.9467077762182428.\n"
          ]
        },
        {
          "output_type": "stream",
          "name": "stdout",
          "text": [
            "[Trial 6] score=1.9467 | depth=10, n_estimators=33, min_leaf=5\n"
          ]
        },
        {
          "output_type": "stream",
          "name": "stderr",
          "text": [
            "[I 2025-07-10 17:09:15,917] Trial 7 finished with value: 1.9646452828835603 and parameters: {'max_depth': 4, 'n_estimators': 86, 'min_samples_leaf': 3}. Best is trial 6 with value: 1.9467077762182428.\n"
          ]
        },
        {
          "output_type": "stream",
          "name": "stdout",
          "text": [
            "[Trial 7] score=1.9646 | depth=4, n_estimators=86, min_leaf=3\n"
          ]
        },
        {
          "output_type": "stream",
          "name": "stderr",
          "text": [
            "[I 2025-07-10 17:13:14,624] Trial 8 finished with value: 1.9485284817769777 and parameters: {'max_depth': 9, 'n_estimators': 46, 'min_samples_leaf': 2}. Best is trial 6 with value: 1.9467077762182428.\n"
          ]
        },
        {
          "output_type": "stream",
          "name": "stdout",
          "text": [
            "[Trial 8] score=1.9485 | depth=9, n_estimators=46, min_leaf=2\n"
          ]
        },
        {
          "output_type": "stream",
          "name": "stderr",
          "text": [
            "[I 2025-07-10 17:23:02,561] Trial 9 finished with value: 1.9404531955238757 and parameters: {'max_depth': 12, 'n_estimators': 88, 'min_samples_leaf': 7}. Best is trial 9 with value: 1.9404531955238757.\n"
          ]
        },
        {
          "output_type": "stream",
          "name": "stdout",
          "text": [
            "[Trial 9] score=1.9405 | depth=12, n_estimators=88, min_leaf=7\n"
          ]
        },
        {
          "output_type": "stream",
          "name": "stderr",
          "text": [
            "[I 2025-07-10 17:30:28,818] Trial 10 finished with value: 1.940701985472213 and parameters: {'max_depth': 12, 'n_estimators': 68, 'min_samples_leaf': 10}. Best is trial 9 with value: 1.9404531955238757.\n"
          ]
        },
        {
          "output_type": "stream",
          "name": "stdout",
          "text": [
            "[Trial 10] score=1.9407 | depth=12, n_estimators=68, min_leaf=10\n"
          ]
        },
        {
          "output_type": "stream",
          "name": "stderr",
          "text": [
            "[I 2025-07-10 17:38:02,878] Trial 11 finished with value: 1.94055860277462 and parameters: {'max_depth': 12, 'n_estimators': 69, 'min_samples_leaf': 10}. Best is trial 9 with value: 1.9404531955238757.\n"
          ]
        },
        {
          "output_type": "stream",
          "name": "stdout",
          "text": [
            "[Trial 11] score=1.9406 | depth=12, n_estimators=69, min_leaf=10\n"
          ]
        },
        {
          "output_type": "stream",
          "name": "stderr",
          "text": [
            "[I 2025-07-10 17:45:11,232] Trial 12 finished with value: 1.940930075887109 and parameters: {'max_depth': 12, 'n_estimators': 65, 'min_samples_leaf': 10}. Best is trial 9 with value: 1.9404531955238757.\n"
          ]
        },
        {
          "output_type": "stream",
          "name": "stdout",
          "text": [
            "[Trial 12] score=1.9409 | depth=12, n_estimators=65, min_leaf=10\n"
          ]
        },
        {
          "output_type": "stream",
          "name": "stderr",
          "text": [
            "[I 2025-07-10 17:52:33,574] Trial 13 finished with value: 1.9412416372711971 and parameters: {'max_depth': 11, 'n_estimators': 72, 'min_samples_leaf': 8}. Best is trial 9 with value: 1.9404531955238757.\n"
          ]
        },
        {
          "output_type": "stream",
          "name": "stdout",
          "text": [
            "[Trial 13] score=1.9412 | depth=11, n_estimators=72, min_leaf=8\n"
          ]
        },
        {
          "output_type": "stream",
          "name": "stderr",
          "text": [
            "[I 2025-07-10 18:01:52,288] Trial 14 finished with value: 1.941660598948721 and parameters: {'max_depth': 10, 'n_estimators': 99, 'min_samples_leaf': 8}. Best is trial 9 with value: 1.9404531955238757.\n"
          ]
        },
        {
          "output_type": "stream",
          "name": "stdout",
          "text": [
            "[Trial 14] score=1.9417 | depth=10, n_estimators=99, min_leaf=8\n"
          ]
        },
        {
          "output_type": "stream",
          "name": "stderr",
          "text": [
            "[I 2025-07-10 18:10:21,896] Trial 15 finished with value: 1.9405159904045994 and parameters: {'max_depth': 12, 'n_estimators': 77, 'min_samples_leaf': 9}. Best is trial 9 with value: 1.9404531955238757.\n"
          ]
        },
        {
          "output_type": "stream",
          "name": "stdout",
          "text": [
            "[Trial 15] score=1.9405 | depth=12, n_estimators=77, min_leaf=9\n"
          ]
        },
        {
          "output_type": "stream",
          "name": "stderr",
          "text": [
            "[I 2025-07-10 18:17:53,677] Trial 16 finished with value: 1.9422723037857155 and parameters: {'max_depth': 10, 'n_estimators': 80, 'min_samples_leaf': 8}. Best is trial 9 with value: 1.9404531955238757.\n"
          ]
        },
        {
          "output_type": "stream",
          "name": "stdout",
          "text": [
            "[Trial 16] score=1.9423 | depth=10, n_estimators=80, min_leaf=8\n"
          ]
        },
        {
          "output_type": "stream",
          "name": "stderr",
          "text": [
            "[I 2025-07-10 18:18:56,353] Trial 17 finished with value: 1.958368334542841 and parameters: {'max_depth': 11, 'n_estimators': 10, 'min_samples_leaf': 7}. Best is trial 9 with value: 1.9404531955238757.\n"
          ]
        },
        {
          "output_type": "stream",
          "name": "stdout",
          "text": [
            "[Trial 17] score=1.9584 | depth=11, n_estimators=10, min_leaf=7\n"
          ]
        },
        {
          "output_type": "stream",
          "name": "stderr",
          "text": [
            "[I 2025-07-10 18:23:45,704] Trial 18 finished with value: 1.9563947894658487 and parameters: {'max_depth': 5, 'n_estimators': 100, 'min_samples_leaf': 9}. Best is trial 9 with value: 1.9404531955238757.\n"
          ]
        },
        {
          "output_type": "stream",
          "name": "stdout",
          "text": [
            "[Trial 18] score=1.9564 | depth=5, n_estimators=100, min_leaf=9\n"
          ]
        },
        {
          "output_type": "stream",
          "name": "stderr",
          "text": [
            "[I 2025-07-10 18:28:17,825] Trial 19 finished with value: 1.9473618509434218 and parameters: {'max_depth': 8, 'n_estimators': 59, 'min_samples_leaf': 6}. Best is trial 9 with value: 1.9404531955238757.\n"
          ]
        },
        {
          "output_type": "stream",
          "name": "stdout",
          "text": [
            "[Trial 19] score=1.9474 | depth=8, n_estimators=59, min_leaf=6\n"
          ]
        },
        {
          "output_type": "stream",
          "name": "stderr",
          "text": [
            "[I 2025-07-10 18:36:23,147] Trial 20 finished with value: 1.9414456970694773 and parameters: {'max_depth': 11, 'n_estimators': 79, 'min_samples_leaf': 9}. Best is trial 9 with value: 1.9404531955238757.\n"
          ]
        },
        {
          "output_type": "stream",
          "name": "stdout",
          "text": [
            "[Trial 20] score=1.9414 | depth=11, n_estimators=79, min_leaf=9\n"
          ]
        },
        {
          "output_type": "stream",
          "name": "stderr",
          "text": [
            "[I 2025-07-10 18:44:29,948] Trial 21 finished with value: 1.9405991718919164 and parameters: {'max_depth': 12, 'n_estimators': 74, 'min_samples_leaf': 9}. Best is trial 9 with value: 1.9404531955238757.\n"
          ]
        },
        {
          "output_type": "stream",
          "name": "stdout",
          "text": [
            "[Trial 21] score=1.9406 | depth=12, n_estimators=74, min_leaf=9\n"
          ]
        },
        {
          "output_type": "stream",
          "name": "stderr",
          "text": [
            "[I 2025-07-10 18:50:50,998] Trial 22 finished with value: 1.9415776923698858 and parameters: {'max_depth': 12, 'n_estimators': 58, 'min_samples_leaf': 10}. Best is trial 9 with value: 1.9404531955238757.\n"
          ]
        },
        {
          "output_type": "stream",
          "name": "stdout",
          "text": [
            "[Trial 22] score=1.9416 | depth=12, n_estimators=58, min_leaf=10\n"
          ]
        },
        {
          "output_type": "stream",
          "name": "stderr",
          "text": [
            "[I 2025-07-10 19:00:17,938] Trial 23 finished with value: 1.9409010468034253 and parameters: {'max_depth': 11, 'n_estimators': 92, 'min_samples_leaf': 7}. Best is trial 9 with value: 1.9404531955238757.\n"
          ]
        },
        {
          "output_type": "stream",
          "name": "stdout",
          "text": [
            "[Trial 23] score=1.9409 | depth=11, n_estimators=92, min_leaf=7\n"
          ]
        },
        {
          "output_type": "stream",
          "name": "stderr",
          "text": [
            "[I 2025-07-10 19:07:04,880] Trial 24 finished with value: 1.9440430315982309 and parameters: {'max_depth': 9, 'n_estimators': 80, 'min_samples_leaf': 9}. Best is trial 9 with value: 1.9404531955238757.\n"
          ]
        },
        {
          "output_type": "stream",
          "name": "stdout",
          "text": [
            "[Trial 24] score=1.9440 | depth=9, n_estimators=80, min_leaf=9\n"
          ]
        },
        {
          "output_type": "stream",
          "name": "stderr",
          "text": [
            "[I 2025-07-10 19:12:40,269] Trial 25 finished with value: 1.9418626014868194 and parameters: {'max_depth': 12, 'n_estimators': 50, 'min_samples_leaf': 8}. Best is trial 9 with value: 1.9404531955238757.\n"
          ]
        },
        {
          "output_type": "stream",
          "name": "stdout",
          "text": [
            "[Trial 25] score=1.9419 | depth=12, n_estimators=50, min_leaf=8\n"
          ]
        },
        {
          "output_type": "stream",
          "name": "stderr",
          "text": [
            "[I 2025-07-10 19:18:31,041] Trial 26 finished with value: 1.9428655593886963 and parameters: {'max_depth': 10, 'n_estimators': 62, 'min_samples_leaf': 10}. Best is trial 9 with value: 1.9404531955238757.\n"
          ]
        },
        {
          "output_type": "stream",
          "name": "stdout",
          "text": [
            "[Trial 26] score=1.9429 | depth=10, n_estimators=62, min_leaf=10\n"
          ]
        },
        {
          "output_type": "stream",
          "name": "stderr",
          "text": [
            "[I 2025-07-10 19:26:10,473] Trial 27 finished with value: 1.9418129348311146 and parameters: {'max_depth': 11, 'n_estimators': 74, 'min_samples_leaf': 7}. Best is trial 9 with value: 1.9404531955238757.\n"
          ]
        },
        {
          "output_type": "stream",
          "name": "stdout",
          "text": [
            "[Trial 27] score=1.9418 | depth=11, n_estimators=74, min_leaf=7\n"
          ]
        },
        {
          "output_type": "stream",
          "name": "stderr",
          "text": [
            "[I 2025-07-10 19:32:29,552] Trial 28 finished with value: 1.9460236997794138 and parameters: {'max_depth': 8, 'n_estimators': 83, 'min_samples_leaf': 9}. Best is trial 9 with value: 1.9404531955238757.\n"
          ]
        },
        {
          "output_type": "stream",
          "name": "stdout",
          "text": [
            "[Trial 28] score=1.9460 | depth=8, n_estimators=83, min_leaf=9\n"
          ]
        },
        {
          "output_type": "stream",
          "name": "stderr",
          "text": [
            "[I 2025-07-10 19:42:55,948] Trial 29 finished with value: 1.9404912882759175 and parameters: {'max_depth': 12, 'n_estimators': 93, 'min_samples_leaf': 6}. Best is trial 9 with value: 1.9404531955238757.\n"
          ]
        },
        {
          "output_type": "stream",
          "name": "stdout",
          "text": [
            "[Trial 29] score=1.9405 | depth=12, n_estimators=93, min_leaf=6\n"
          ]
        },
        {
          "output_type": "stream",
          "name": "stderr",
          "text": [
            "[I 2025-07-10 19:52:27,501] Trial 30 finished with value: 1.9413645904887713 and parameters: {'max_depth': 11, 'n_estimators': 92, 'min_samples_leaf': 6}. Best is trial 9 with value: 1.9404531955238757.\n"
          ]
        },
        {
          "output_type": "stream",
          "name": "stdout",
          "text": [
            "[Trial 30] score=1.9414 | depth=11, n_estimators=92, min_leaf=6\n"
          ]
        },
        {
          "output_type": "stream",
          "name": "stderr",
          "text": [
            "[I 2025-07-10 20:03:16,912] Trial 31 finished with value: 1.9408624677384756 and parameters: {'max_depth': 12, 'n_estimators': 96, 'min_samples_leaf': 5}. Best is trial 9 with value: 1.9404531955238757.\n"
          ]
        },
        {
          "output_type": "stream",
          "name": "stdout",
          "text": [
            "[Trial 31] score=1.9409 | depth=12, n_estimators=96, min_leaf=5\n"
          ]
        },
        {
          "output_type": "stream",
          "name": "stderr",
          "text": [
            "[I 2025-07-10 20:10:48,003] Trial 32 finished with value: 1.9406772838000332 and parameters: {'max_depth': 12, 'n_estimators': 68, 'min_samples_leaf': 8}. Best is trial 9 with value: 1.9404531955238757.\n"
          ]
        },
        {
          "output_type": "stream",
          "name": "stdout",
          "text": [
            "[Trial 32] score=1.9407 | depth=12, n_estimators=68, min_leaf=8\n"
          ]
        },
        {
          "output_type": "stream",
          "name": "stderr",
          "text": [
            "[I 2025-07-10 20:20:31,652] Trial 33 finished with value: 1.9422876481368736 and parameters: {'max_depth': 11, 'n_estimators': 93, 'min_samples_leaf': 4}. Best is trial 9 with value: 1.9404531955238757.\n"
          ]
        },
        {
          "output_type": "stream",
          "name": "stdout",
          "text": [
            "[Trial 33] score=1.9423 | depth=11, n_estimators=93, min_leaf=4\n"
          ]
        },
        {
          "output_type": "stream",
          "name": "stderr",
          "text": [
            "[I 2025-07-10 20:28:39,252] Trial 34 finished with value: 1.9421743139790495 and parameters: {'max_depth': 10, 'n_estimators': 86, 'min_samples_leaf': 7}. Best is trial 9 with value: 1.9404531955238757.\n"
          ]
        },
        {
          "output_type": "stream",
          "name": "stdout",
          "text": [
            "[Trial 34] score=1.9422 | depth=10, n_estimators=86, min_leaf=7\n"
          ]
        },
        {
          "output_type": "stream",
          "name": "stderr",
          "text": [
            "[I 2025-07-10 20:37:10,827] Trial 35 finished with value: 1.9411486733176444 and parameters: {'max_depth': 12, 'n_estimators': 76, 'min_samples_leaf': 6}. Best is trial 9 with value: 1.9404531955238757.\n"
          ]
        },
        {
          "output_type": "stream",
          "name": "stdout",
          "text": [
            "[Trial 35] score=1.9411 | depth=12, n_estimators=76, min_leaf=6\n"
          ]
        },
        {
          "output_type": "stream",
          "name": "stderr",
          "text": [
            "[I 2025-07-10 20:38:43,960] Trial 36 finished with value: 1.9733364814742589 and parameters: {'max_depth': 3, 'n_estimators': 52, 'min_samples_leaf': 1}. Best is trial 9 with value: 1.9404531955238757.\n"
          ]
        },
        {
          "output_type": "stream",
          "name": "stdout",
          "text": [
            "[Trial 36] score=1.9733 | depth=3, n_estimators=52, min_leaf=1\n"
          ]
        },
        {
          "output_type": "stream",
          "name": "stderr",
          "text": [
            "[I 2025-07-10 20:43:49,921] Trial 37 finished with value: 1.9528541759883855 and parameters: {'max_depth': 6, 'n_estimators': 88, 'min_samples_leaf': 4}. Best is trial 9 with value: 1.9404531955238757.\n"
          ]
        },
        {
          "output_type": "stream",
          "name": "stdout",
          "text": [
            "[Trial 37] score=1.9529 | depth=6, n_estimators=88, min_leaf=4\n"
          ]
        },
        {
          "output_type": "stream",
          "name": "stderr",
          "text": [
            "[I 2025-07-10 20:52:44,818] Trial 38 finished with value: 1.941773003219826 and parameters: {'max_depth': 11, 'n_estimators': 85, 'min_samples_leaf': 5}. Best is trial 9 with value: 1.9404531955238757.\n"
          ]
        },
        {
          "output_type": "stream",
          "name": "stdout",
          "text": [
            "[Trial 38] score=1.9418 | depth=11, n_estimators=85, min_leaf=5\n"
          ]
        },
        {
          "output_type": "stream",
          "name": "stderr",
          "text": [
            "[I 2025-07-10 20:59:16,188] Trial 39 finished with value: 1.942340270780518 and parameters: {'max_depth': 10, 'n_estimators': 69, 'min_samples_leaf': 10}. Best is trial 9 with value: 1.9404531955238757.\n"
          ]
        },
        {
          "output_type": "stream",
          "name": "stdout",
          "text": [
            "[Trial 39] score=1.9423 | depth=10, n_estimators=69, min_leaf=10\n"
          ]
        },
        {
          "output_type": "stream",
          "name": "stderr",
          "text": [
            "[I 2025-07-10 21:03:46,355] Trial 40 finished with value: 1.9427195064317635 and parameters: {'max_depth': 12, 'n_estimators': 40, 'min_samples_leaf': 9}. Best is trial 9 with value: 1.9404531955238757.\n"
          ]
        },
        {
          "output_type": "stream",
          "name": "stdout",
          "text": [
            "[Trial 40] score=1.9427 | depth=12, n_estimators=40, min_leaf=9\n"
          ]
        }
      ]
    },
    {
      "cell_type": "code",
      "source": [
        "# study = optuna.create_study(direction='minimize')\n",
        "# study.optimize(objective, n_trials=30)\n",
        "\n",
        "# print(\"Best Params:\", study.best_params)\n",
        "# print(\"Best Score:\", study.best_value)\n"
      ],
      "metadata": {
        "colab": {
          "base_uri": "https://localhost:8080/",
          "height": 1000
        },
        "id": "4UG79TS4FgrX",
        "outputId": "5d5b3910-4cca-4824-c858-353f94f9fa0c"
      },
      "execution_count": 39,
      "outputs": [
        {
          "output_type": "stream",
          "name": "stderr",
          "text": [
            "[I 2025-07-10 16:06:58,280] A new study created in memory with name: no-name-28e27f39-e64f-480d-adc8-8439f2ffb57b\n",
            "[I 2025-07-10 16:15:07,290] Trial 0 finished with value: 1.9489668821607211 and parameters: {'max_depth': 7, 'n_estimators': 88, 'min_samples_leaf': 6}. Best is trial 0 with value: 1.9489668821607211.\n",
            "[I 2025-07-10 16:28:37,203] Trial 1 finished with value: 1.9421799641969546 and parameters: {'max_depth': 11, 'n_estimators': 94, 'min_samples_leaf': 4}. Best is trial 1 with value: 1.9421799641969546.\n",
            "[I 2025-07-10 16:32:52,935] Trial 2 finished with value: 1.9520586477854869 and parameters: {'max_depth': 9, 'n_estimators': 36, 'min_samples_leaf': 1}. Best is trial 1 with value: 1.9421799641969546.\n",
            "[W 2025-07-10 16:39:55,610] Trial 3 failed with parameters: {'max_depth': 10, 'n_estimators': 59, 'min_samples_leaf': 7} because of the following error: KeyboardInterrupt().\n",
            "Traceback (most recent call last):\n",
            "  File \"/usr/local/lib/python3.11/dist-packages/optuna/study/_optimize.py\", line 201, in _run_trial\n",
            "    value_or_values = func(trial)\n",
            "                      ^^^^^^^^^^^\n",
            "  File \"/tmp/ipython-input-38-3444529335.py\", line 20, in objective\n",
            "    model.fit(X_train, y_train)\n",
            "  File \"/usr/local/lib/python3.11/dist-packages/sklearn/base.py\", line 1389, in wrapper\n",
            "    return fit_method(estimator, *args, **kwargs)\n",
            "           ^^^^^^^^^^^^^^^^^^^^^^^^^^^^^^^^^^^^^^\n",
            "  File \"/usr/local/lib/python3.11/dist-packages/sklearn/multioutput.py\", line 274, in fit\n",
            "    self.estimators_ = Parallel(n_jobs=self.n_jobs)(\n",
            "                       ^^^^^^^^^^^^^^^^^^^^^^^^^^^^^\n",
            "  File \"/usr/local/lib/python3.11/dist-packages/sklearn/utils/parallel.py\", line 77, in __call__\n",
            "    return super().__call__(iterable_with_config)\n",
            "           ^^^^^^^^^^^^^^^^^^^^^^^^^^^^^^^^^^^^^^\n",
            "  File \"/usr/local/lib/python3.11/dist-packages/joblib/parallel.py\", line 1986, in __call__\n",
            "    return output if self.return_generator else list(output)\n",
            "                                                ^^^^^^^^^^^^\n",
            "  File \"/usr/local/lib/python3.11/dist-packages/joblib/parallel.py\", line 1914, in _get_sequential_output\n",
            "    res = func(*args, **kwargs)\n",
            "          ^^^^^^^^^^^^^^^^^^^^^\n",
            "  File \"/usr/local/lib/python3.11/dist-packages/sklearn/utils/parallel.py\", line 139, in __call__\n",
            "    return self.function(*args, **kwargs)\n",
            "           ^^^^^^^^^^^^^^^^^^^^^^^^^^^^^^\n",
            "  File \"/usr/local/lib/python3.11/dist-packages/sklearn/multioutput.py\", line 63, in _fit_estimator\n",
            "    estimator.fit(X, y, **fit_params)\n",
            "  File \"/usr/local/lib/python3.11/dist-packages/sklearn/base.py\", line 1389, in wrapper\n",
            "    return fit_method(estimator, *args, **kwargs)\n",
            "           ^^^^^^^^^^^^^^^^^^^^^^^^^^^^^^^^^^^^^^\n",
            "  File \"/usr/local/lib/python3.11/dist-packages/sklearn/ensemble/_forest.py\", line 487, in fit\n",
            "    trees = Parallel(\n",
            "            ^^^^^^^^^\n",
            "  File \"/usr/local/lib/python3.11/dist-packages/sklearn/utils/parallel.py\", line 77, in __call__\n",
            "    return super().__call__(iterable_with_config)\n",
            "           ^^^^^^^^^^^^^^^^^^^^^^^^^^^^^^^^^^^^^^\n",
            "  File \"/usr/local/lib/python3.11/dist-packages/joblib/parallel.py\", line 1986, in __call__\n",
            "    return output if self.return_generator else list(output)\n",
            "                                                ^^^^^^^^^^^^\n",
            "  File \"/usr/local/lib/python3.11/dist-packages/joblib/parallel.py\", line 1914, in _get_sequential_output\n",
            "    res = func(*args, **kwargs)\n",
            "          ^^^^^^^^^^^^^^^^^^^^^\n",
            "  File \"/usr/local/lib/python3.11/dist-packages/sklearn/utils/parallel.py\", line 139, in __call__\n",
            "    return self.function(*args, **kwargs)\n",
            "           ^^^^^^^^^^^^^^^^^^^^^^^^^^^^^^\n",
            "  File \"/usr/local/lib/python3.11/dist-packages/sklearn/ensemble/_forest.py\", line 189, in _parallel_build_trees\n",
            "    tree._fit(\n",
            "  File \"/usr/local/lib/python3.11/dist-packages/sklearn/tree/_classes.py\", line 472, in _fit\n",
            "    builder.build(self.tree_, X, y, sample_weight, missing_values_in_feature_mask)\n",
            "KeyboardInterrupt\n",
            "[W 2025-07-10 16:39:55,618] Trial 3 failed with value None.\n"
          ]
        },
        {
          "output_type": "error",
          "ename": "KeyboardInterrupt",
          "evalue": "",
          "traceback": [
            "\u001b[0;31m---------------------------------------------------------------------------\u001b[0m",
            "\u001b[0;31mKeyboardInterrupt\u001b[0m                         Traceback (most recent call last)",
            "\u001b[0;32m/tmp/ipython-input-39-426266862.py\u001b[0m in \u001b[0;36m<cell line: 0>\u001b[0;34m()\u001b[0m\n\u001b[1;32m      1\u001b[0m \u001b[0mstudy\u001b[0m \u001b[0;34m=\u001b[0m \u001b[0moptuna\u001b[0m\u001b[0;34m.\u001b[0m\u001b[0mcreate_study\u001b[0m\u001b[0;34m(\u001b[0m\u001b[0mdirection\u001b[0m\u001b[0;34m=\u001b[0m\u001b[0;34m'minimize'\u001b[0m\u001b[0;34m)\u001b[0m\u001b[0;34m\u001b[0m\u001b[0;34m\u001b[0m\u001b[0m\n\u001b[0;32m----> 2\u001b[0;31m \u001b[0mstudy\u001b[0m\u001b[0;34m.\u001b[0m\u001b[0moptimize\u001b[0m\u001b[0;34m(\u001b[0m\u001b[0mobjective\u001b[0m\u001b[0;34m,\u001b[0m \u001b[0mn_trials\u001b[0m\u001b[0;34m=\u001b[0m\u001b[0;36m30\u001b[0m\u001b[0;34m)\u001b[0m\u001b[0;34m\u001b[0m\u001b[0;34m\u001b[0m\u001b[0m\n\u001b[0m\u001b[1;32m      3\u001b[0m \u001b[0;34m\u001b[0m\u001b[0m\n\u001b[1;32m      4\u001b[0m \u001b[0mprint\u001b[0m\u001b[0;34m(\u001b[0m\u001b[0;34m\"Best Params:\"\u001b[0m\u001b[0;34m,\u001b[0m \u001b[0mstudy\u001b[0m\u001b[0;34m.\u001b[0m\u001b[0mbest_params\u001b[0m\u001b[0;34m)\u001b[0m\u001b[0;34m\u001b[0m\u001b[0;34m\u001b[0m\u001b[0m\n\u001b[1;32m      5\u001b[0m \u001b[0mprint\u001b[0m\u001b[0;34m(\u001b[0m\u001b[0;34m\"Best Score:\"\u001b[0m\u001b[0;34m,\u001b[0m \u001b[0mstudy\u001b[0m\u001b[0;34m.\u001b[0m\u001b[0mbest_value\u001b[0m\u001b[0;34m)\u001b[0m\u001b[0;34m\u001b[0m\u001b[0;34m\u001b[0m\u001b[0m\n",
            "\u001b[0;32m/usr/local/lib/python3.11/dist-packages/optuna/study/study.py\u001b[0m in \u001b[0;36moptimize\u001b[0;34m(self, func, n_trials, timeout, n_jobs, catch, callbacks, gc_after_trial, show_progress_bar)\u001b[0m\n\u001b[1;32m    487\u001b[0m                 \u001b[0mIf\u001b[0m \u001b[0mnested\u001b[0m \u001b[0minvocation\u001b[0m \u001b[0mof\u001b[0m \u001b[0mthis\u001b[0m \u001b[0mmethod\u001b[0m \u001b[0moccurs\u001b[0m\u001b[0;34m.\u001b[0m\u001b[0;34m\u001b[0m\u001b[0;34m\u001b[0m\u001b[0m\n\u001b[1;32m    488\u001b[0m         \"\"\"\n\u001b[0;32m--> 489\u001b[0;31m         _optimize(\n\u001b[0m\u001b[1;32m    490\u001b[0m             \u001b[0mstudy\u001b[0m\u001b[0;34m=\u001b[0m\u001b[0mself\u001b[0m\u001b[0;34m,\u001b[0m\u001b[0;34m\u001b[0m\u001b[0;34m\u001b[0m\u001b[0m\n\u001b[1;32m    491\u001b[0m             \u001b[0mfunc\u001b[0m\u001b[0;34m=\u001b[0m\u001b[0mfunc\u001b[0m\u001b[0;34m,\u001b[0m\u001b[0;34m\u001b[0m\u001b[0;34m\u001b[0m\u001b[0m\n",
            "\u001b[0;32m/usr/local/lib/python3.11/dist-packages/optuna/study/_optimize.py\u001b[0m in \u001b[0;36m_optimize\u001b[0;34m(study, func, n_trials, timeout, n_jobs, catch, callbacks, gc_after_trial, show_progress_bar)\u001b[0m\n\u001b[1;32m     62\u001b[0m     \u001b[0;32mtry\u001b[0m\u001b[0;34m:\u001b[0m\u001b[0;34m\u001b[0m\u001b[0;34m\u001b[0m\u001b[0m\n\u001b[1;32m     63\u001b[0m         \u001b[0;32mif\u001b[0m \u001b[0mn_jobs\u001b[0m \u001b[0;34m==\u001b[0m \u001b[0;36m1\u001b[0m\u001b[0;34m:\u001b[0m\u001b[0;34m\u001b[0m\u001b[0;34m\u001b[0m\u001b[0m\n\u001b[0;32m---> 64\u001b[0;31m             _optimize_sequential(\n\u001b[0m\u001b[1;32m     65\u001b[0m                 \u001b[0mstudy\u001b[0m\u001b[0;34m,\u001b[0m\u001b[0;34m\u001b[0m\u001b[0;34m\u001b[0m\u001b[0m\n\u001b[1;32m     66\u001b[0m                 \u001b[0mfunc\u001b[0m\u001b[0;34m,\u001b[0m\u001b[0;34m\u001b[0m\u001b[0;34m\u001b[0m\u001b[0m\n",
            "\u001b[0;32m/usr/local/lib/python3.11/dist-packages/optuna/study/_optimize.py\u001b[0m in \u001b[0;36m_optimize_sequential\u001b[0;34m(study, func, n_trials, timeout, catch, callbacks, gc_after_trial, reseed_sampler_rng, time_start, progress_bar)\u001b[0m\n\u001b[1;32m    159\u001b[0m \u001b[0;34m\u001b[0m\u001b[0m\n\u001b[1;32m    160\u001b[0m         \u001b[0;32mtry\u001b[0m\u001b[0;34m:\u001b[0m\u001b[0;34m\u001b[0m\u001b[0;34m\u001b[0m\u001b[0m\n\u001b[0;32m--> 161\u001b[0;31m             \u001b[0mfrozen_trial\u001b[0m \u001b[0;34m=\u001b[0m \u001b[0m_run_trial\u001b[0m\u001b[0;34m(\u001b[0m\u001b[0mstudy\u001b[0m\u001b[0;34m,\u001b[0m \u001b[0mfunc\u001b[0m\u001b[0;34m,\u001b[0m \u001b[0mcatch\u001b[0m\u001b[0;34m)\u001b[0m\u001b[0;34m\u001b[0m\u001b[0;34m\u001b[0m\u001b[0m\n\u001b[0m\u001b[1;32m    162\u001b[0m         \u001b[0;32mfinally\u001b[0m\u001b[0;34m:\u001b[0m\u001b[0;34m\u001b[0m\u001b[0;34m\u001b[0m\u001b[0m\n\u001b[1;32m    163\u001b[0m             \u001b[0;31m# The following line mitigates memory problems that can be occurred in some\u001b[0m\u001b[0;34m\u001b[0m\u001b[0;34m\u001b[0m\u001b[0m\n",
            "\u001b[0;32m/usr/local/lib/python3.11/dist-packages/optuna/study/_optimize.py\u001b[0m in \u001b[0;36m_run_trial\u001b[0;34m(study, func, catch)\u001b[0m\n\u001b[1;32m    251\u001b[0m         \u001b[0;32mand\u001b[0m \u001b[0;32mnot\u001b[0m \u001b[0misinstance\u001b[0m\u001b[0;34m(\u001b[0m\u001b[0mfunc_err\u001b[0m\u001b[0;34m,\u001b[0m \u001b[0mcatch\u001b[0m\u001b[0;34m)\u001b[0m\u001b[0;34m\u001b[0m\u001b[0;34m\u001b[0m\u001b[0m\n\u001b[1;32m    252\u001b[0m     ):\n\u001b[0;32m--> 253\u001b[0;31m         \u001b[0;32mraise\u001b[0m \u001b[0mfunc_err\u001b[0m\u001b[0;34m\u001b[0m\u001b[0;34m\u001b[0m\u001b[0m\n\u001b[0m\u001b[1;32m    254\u001b[0m     \u001b[0;32mreturn\u001b[0m \u001b[0mfrozen_trial\u001b[0m\u001b[0;34m\u001b[0m\u001b[0;34m\u001b[0m\u001b[0m\n\u001b[1;32m    255\u001b[0m \u001b[0;34m\u001b[0m\u001b[0m\n",
            "\u001b[0;32m/usr/local/lib/python3.11/dist-packages/optuna/study/_optimize.py\u001b[0m in \u001b[0;36m_run_trial\u001b[0;34m(study, func, catch)\u001b[0m\n\u001b[1;32m    199\u001b[0m     \u001b[0;32mwith\u001b[0m \u001b[0mget_heartbeat_thread\u001b[0m\u001b[0;34m(\u001b[0m\u001b[0mtrial\u001b[0m\u001b[0;34m.\u001b[0m\u001b[0m_trial_id\u001b[0m\u001b[0;34m,\u001b[0m \u001b[0mstudy\u001b[0m\u001b[0;34m.\u001b[0m\u001b[0m_storage\u001b[0m\u001b[0;34m)\u001b[0m\u001b[0;34m:\u001b[0m\u001b[0;34m\u001b[0m\u001b[0;34m\u001b[0m\u001b[0m\n\u001b[1;32m    200\u001b[0m         \u001b[0;32mtry\u001b[0m\u001b[0;34m:\u001b[0m\u001b[0;34m\u001b[0m\u001b[0;34m\u001b[0m\u001b[0m\n\u001b[0;32m--> 201\u001b[0;31m             \u001b[0mvalue_or_values\u001b[0m \u001b[0;34m=\u001b[0m \u001b[0mfunc\u001b[0m\u001b[0;34m(\u001b[0m\u001b[0mtrial\u001b[0m\u001b[0;34m)\u001b[0m\u001b[0;34m\u001b[0m\u001b[0;34m\u001b[0m\u001b[0m\n\u001b[0m\u001b[1;32m    202\u001b[0m         \u001b[0;32mexcept\u001b[0m \u001b[0mexceptions\u001b[0m\u001b[0;34m.\u001b[0m\u001b[0mTrialPruned\u001b[0m \u001b[0;32mas\u001b[0m \u001b[0me\u001b[0m\u001b[0;34m:\u001b[0m\u001b[0;34m\u001b[0m\u001b[0;34m\u001b[0m\u001b[0m\n\u001b[1;32m    203\u001b[0m             \u001b[0;31m# TODO(mamu): Handle multi-objective cases.\u001b[0m\u001b[0;34m\u001b[0m\u001b[0;34m\u001b[0m\u001b[0m\n",
            "\u001b[0;32m/tmp/ipython-input-38-3444529335.py\u001b[0m in \u001b[0;36mobjective\u001b[0;34m(trial)\u001b[0m\n\u001b[1;32m     18\u001b[0m \u001b[0;34m\u001b[0m\u001b[0m\n\u001b[1;32m     19\u001b[0m     \u001b[0mmodel\u001b[0m \u001b[0;34m=\u001b[0m \u001b[0mMultiOutputRegressor\u001b[0m\u001b[0;34m(\u001b[0m\u001b[0mrf\u001b[0m\u001b[0;34m)\u001b[0m\u001b[0;34m\u001b[0m\u001b[0;34m\u001b[0m\u001b[0m\n\u001b[0;32m---> 20\u001b[0;31m     \u001b[0mmodel\u001b[0m\u001b[0;34m.\u001b[0m\u001b[0mfit\u001b[0m\u001b[0;34m(\u001b[0m\u001b[0mX_train\u001b[0m\u001b[0;34m,\u001b[0m \u001b[0my_train\u001b[0m\u001b[0;34m)\u001b[0m\u001b[0;34m\u001b[0m\u001b[0;34m\u001b[0m\u001b[0m\n\u001b[0m\u001b[1;32m     21\u001b[0m     \u001b[0mpreds\u001b[0m \u001b[0;34m=\u001b[0m \u001b[0mmodel\u001b[0m\u001b[0;34m.\u001b[0m\u001b[0mpredict\u001b[0m\u001b[0;34m(\u001b[0m\u001b[0mX_val\u001b[0m\u001b[0;34m)\u001b[0m\u001b[0;34m\u001b[0m\u001b[0;34m\u001b[0m\u001b[0m\n\u001b[1;32m     22\u001b[0m \u001b[0;34m\u001b[0m\u001b[0m\n",
            "\u001b[0;32m/usr/local/lib/python3.11/dist-packages/sklearn/base.py\u001b[0m in \u001b[0;36mwrapper\u001b[0;34m(estimator, *args, **kwargs)\u001b[0m\n\u001b[1;32m   1387\u001b[0m                 )\n\u001b[1;32m   1388\u001b[0m             ):\n\u001b[0;32m-> 1389\u001b[0;31m                 \u001b[0;32mreturn\u001b[0m \u001b[0mfit_method\u001b[0m\u001b[0;34m(\u001b[0m\u001b[0mestimator\u001b[0m\u001b[0;34m,\u001b[0m \u001b[0;34m*\u001b[0m\u001b[0margs\u001b[0m\u001b[0;34m,\u001b[0m \u001b[0;34m**\u001b[0m\u001b[0mkwargs\u001b[0m\u001b[0;34m)\u001b[0m\u001b[0;34m\u001b[0m\u001b[0;34m\u001b[0m\u001b[0m\n\u001b[0m\u001b[1;32m   1390\u001b[0m \u001b[0;34m\u001b[0m\u001b[0m\n\u001b[1;32m   1391\u001b[0m         \u001b[0;32mreturn\u001b[0m \u001b[0mwrapper\u001b[0m\u001b[0;34m\u001b[0m\u001b[0;34m\u001b[0m\u001b[0m\n",
            "\u001b[0;32m/usr/local/lib/python3.11/dist-packages/sklearn/multioutput.py\u001b[0m in \u001b[0;36mfit\u001b[0;34m(self, X, y, sample_weight, **fit_params)\u001b[0m\n\u001b[1;32m    272\u001b[0m                 \u001b[0mrouted_params\u001b[0m\u001b[0;34m.\u001b[0m\u001b[0mestimator\u001b[0m\u001b[0;34m.\u001b[0m\u001b[0mfit\u001b[0m\u001b[0;34m[\u001b[0m\u001b[0;34m\"sample_weight\"\u001b[0m\u001b[0;34m]\u001b[0m \u001b[0;34m=\u001b[0m \u001b[0msample_weight\u001b[0m\u001b[0;34m\u001b[0m\u001b[0;34m\u001b[0m\u001b[0m\n\u001b[1;32m    273\u001b[0m \u001b[0;34m\u001b[0m\u001b[0m\n\u001b[0;32m--> 274\u001b[0;31m         self.estimators_ = Parallel(n_jobs=self.n_jobs)(\n\u001b[0m\u001b[1;32m    275\u001b[0m             delayed(_fit_estimator)(\n\u001b[1;32m    276\u001b[0m                 \u001b[0mself\u001b[0m\u001b[0;34m.\u001b[0m\u001b[0mestimator\u001b[0m\u001b[0;34m,\u001b[0m \u001b[0mX\u001b[0m\u001b[0;34m,\u001b[0m \u001b[0my\u001b[0m\u001b[0;34m[\u001b[0m\u001b[0;34m:\u001b[0m\u001b[0;34m,\u001b[0m \u001b[0mi\u001b[0m\u001b[0;34m]\u001b[0m\u001b[0;34m,\u001b[0m \u001b[0;34m**\u001b[0m\u001b[0mrouted_params\u001b[0m\u001b[0;34m.\u001b[0m\u001b[0mestimator\u001b[0m\u001b[0;34m.\u001b[0m\u001b[0mfit\u001b[0m\u001b[0;34m\u001b[0m\u001b[0;34m\u001b[0m\u001b[0m\n",
            "\u001b[0;32m/usr/local/lib/python3.11/dist-packages/sklearn/utils/parallel.py\u001b[0m in \u001b[0;36m__call__\u001b[0;34m(self, iterable)\u001b[0m\n\u001b[1;32m     75\u001b[0m             \u001b[0;32mfor\u001b[0m \u001b[0mdelayed_func\u001b[0m\u001b[0;34m,\u001b[0m \u001b[0margs\u001b[0m\u001b[0;34m,\u001b[0m \u001b[0mkwargs\u001b[0m \u001b[0;32min\u001b[0m \u001b[0miterable\u001b[0m\u001b[0;34m\u001b[0m\u001b[0;34m\u001b[0m\u001b[0m\n\u001b[1;32m     76\u001b[0m         )\n\u001b[0;32m---> 77\u001b[0;31m         \u001b[0;32mreturn\u001b[0m \u001b[0msuper\u001b[0m\u001b[0;34m(\u001b[0m\u001b[0;34m)\u001b[0m\u001b[0;34m.\u001b[0m\u001b[0m__call__\u001b[0m\u001b[0;34m(\u001b[0m\u001b[0miterable_with_config\u001b[0m\u001b[0;34m)\u001b[0m\u001b[0;34m\u001b[0m\u001b[0;34m\u001b[0m\u001b[0m\n\u001b[0m\u001b[1;32m     78\u001b[0m \u001b[0;34m\u001b[0m\u001b[0m\n\u001b[1;32m     79\u001b[0m \u001b[0;34m\u001b[0m\u001b[0m\n",
            "\u001b[0;32m/usr/local/lib/python3.11/dist-packages/joblib/parallel.py\u001b[0m in \u001b[0;36m__call__\u001b[0;34m(self, iterable)\u001b[0m\n\u001b[1;32m   1984\u001b[0m             \u001b[0moutput\u001b[0m \u001b[0;34m=\u001b[0m \u001b[0mself\u001b[0m\u001b[0;34m.\u001b[0m\u001b[0m_get_sequential_output\u001b[0m\u001b[0;34m(\u001b[0m\u001b[0miterable\u001b[0m\u001b[0;34m)\u001b[0m\u001b[0;34m\u001b[0m\u001b[0;34m\u001b[0m\u001b[0m\n\u001b[1;32m   1985\u001b[0m             \u001b[0mnext\u001b[0m\u001b[0;34m(\u001b[0m\u001b[0moutput\u001b[0m\u001b[0;34m)\u001b[0m\u001b[0;34m\u001b[0m\u001b[0;34m\u001b[0m\u001b[0m\n\u001b[0;32m-> 1986\u001b[0;31m             \u001b[0;32mreturn\u001b[0m \u001b[0moutput\u001b[0m \u001b[0;32mif\u001b[0m \u001b[0mself\u001b[0m\u001b[0;34m.\u001b[0m\u001b[0mreturn_generator\u001b[0m \u001b[0;32melse\u001b[0m \u001b[0mlist\u001b[0m\u001b[0;34m(\u001b[0m\u001b[0moutput\u001b[0m\u001b[0;34m)\u001b[0m\u001b[0;34m\u001b[0m\u001b[0;34m\u001b[0m\u001b[0m\n\u001b[0m\u001b[1;32m   1987\u001b[0m \u001b[0;34m\u001b[0m\u001b[0m\n\u001b[1;32m   1988\u001b[0m         \u001b[0;31m# Let's create an ID that uniquely identifies the current call. If the\u001b[0m\u001b[0;34m\u001b[0m\u001b[0;34m\u001b[0m\u001b[0m\n",
            "\u001b[0;32m/usr/local/lib/python3.11/dist-packages/joblib/parallel.py\u001b[0m in \u001b[0;36m_get_sequential_output\u001b[0;34m(self, iterable)\u001b[0m\n\u001b[1;32m   1912\u001b[0m                 \u001b[0mself\u001b[0m\u001b[0;34m.\u001b[0m\u001b[0mn_dispatched_batches\u001b[0m \u001b[0;34m+=\u001b[0m \u001b[0;36m1\u001b[0m\u001b[0;34m\u001b[0m\u001b[0;34m\u001b[0m\u001b[0m\n\u001b[1;32m   1913\u001b[0m                 \u001b[0mself\u001b[0m\u001b[0;34m.\u001b[0m\u001b[0mn_dispatched_tasks\u001b[0m \u001b[0;34m+=\u001b[0m \u001b[0;36m1\u001b[0m\u001b[0;34m\u001b[0m\u001b[0;34m\u001b[0m\u001b[0m\n\u001b[0;32m-> 1914\u001b[0;31m                 \u001b[0mres\u001b[0m \u001b[0;34m=\u001b[0m \u001b[0mfunc\u001b[0m\u001b[0;34m(\u001b[0m\u001b[0;34m*\u001b[0m\u001b[0margs\u001b[0m\u001b[0;34m,\u001b[0m \u001b[0;34m**\u001b[0m\u001b[0mkwargs\u001b[0m\u001b[0;34m)\u001b[0m\u001b[0;34m\u001b[0m\u001b[0;34m\u001b[0m\u001b[0m\n\u001b[0m\u001b[1;32m   1915\u001b[0m                 \u001b[0mself\u001b[0m\u001b[0;34m.\u001b[0m\u001b[0mn_completed_tasks\u001b[0m \u001b[0;34m+=\u001b[0m \u001b[0;36m1\u001b[0m\u001b[0;34m\u001b[0m\u001b[0;34m\u001b[0m\u001b[0m\n\u001b[1;32m   1916\u001b[0m                 \u001b[0mself\u001b[0m\u001b[0;34m.\u001b[0m\u001b[0mprint_progress\u001b[0m\u001b[0;34m(\u001b[0m\u001b[0;34m)\u001b[0m\u001b[0;34m\u001b[0m\u001b[0;34m\u001b[0m\u001b[0m\n",
            "\u001b[0;32m/usr/local/lib/python3.11/dist-packages/sklearn/utils/parallel.py\u001b[0m in \u001b[0;36m__call__\u001b[0;34m(self, *args, **kwargs)\u001b[0m\n\u001b[1;32m    137\u001b[0m             \u001b[0mconfig\u001b[0m \u001b[0;34m=\u001b[0m \u001b[0;34m{\u001b[0m\u001b[0;34m}\u001b[0m\u001b[0;34m\u001b[0m\u001b[0;34m\u001b[0m\u001b[0m\n\u001b[1;32m    138\u001b[0m         \u001b[0;32mwith\u001b[0m \u001b[0mconfig_context\u001b[0m\u001b[0;34m(\u001b[0m\u001b[0;34m**\u001b[0m\u001b[0mconfig\u001b[0m\u001b[0;34m)\u001b[0m\u001b[0;34m:\u001b[0m\u001b[0;34m\u001b[0m\u001b[0;34m\u001b[0m\u001b[0m\n\u001b[0;32m--> 139\u001b[0;31m             \u001b[0;32mreturn\u001b[0m \u001b[0mself\u001b[0m\u001b[0;34m.\u001b[0m\u001b[0mfunction\u001b[0m\u001b[0;34m(\u001b[0m\u001b[0;34m*\u001b[0m\u001b[0margs\u001b[0m\u001b[0;34m,\u001b[0m \u001b[0;34m**\u001b[0m\u001b[0mkwargs\u001b[0m\u001b[0;34m)\u001b[0m\u001b[0;34m\u001b[0m\u001b[0;34m\u001b[0m\u001b[0m\n\u001b[0m\u001b[1;32m    140\u001b[0m \u001b[0;34m\u001b[0m\u001b[0m\n\u001b[1;32m    141\u001b[0m \u001b[0;34m\u001b[0m\u001b[0m\n",
            "\u001b[0;32m/usr/local/lib/python3.11/dist-packages/sklearn/multioutput.py\u001b[0m in \u001b[0;36m_fit_estimator\u001b[0;34m(estimator, X, y, sample_weight, **fit_params)\u001b[0m\n\u001b[1;32m     61\u001b[0m         \u001b[0mestimator\u001b[0m\u001b[0;34m.\u001b[0m\u001b[0mfit\u001b[0m\u001b[0;34m(\u001b[0m\u001b[0mX\u001b[0m\u001b[0;34m,\u001b[0m \u001b[0my\u001b[0m\u001b[0;34m,\u001b[0m \u001b[0msample_weight\u001b[0m\u001b[0;34m=\u001b[0m\u001b[0msample_weight\u001b[0m\u001b[0;34m,\u001b[0m \u001b[0;34m**\u001b[0m\u001b[0mfit_params\u001b[0m\u001b[0;34m)\u001b[0m\u001b[0;34m\u001b[0m\u001b[0;34m\u001b[0m\u001b[0m\n\u001b[1;32m     62\u001b[0m     \u001b[0;32melse\u001b[0m\u001b[0;34m:\u001b[0m\u001b[0;34m\u001b[0m\u001b[0;34m\u001b[0m\u001b[0m\n\u001b[0;32m---> 63\u001b[0;31m         \u001b[0mestimator\u001b[0m\u001b[0;34m.\u001b[0m\u001b[0mfit\u001b[0m\u001b[0;34m(\u001b[0m\u001b[0mX\u001b[0m\u001b[0;34m,\u001b[0m \u001b[0my\u001b[0m\u001b[0;34m,\u001b[0m \u001b[0;34m**\u001b[0m\u001b[0mfit_params\u001b[0m\u001b[0;34m)\u001b[0m\u001b[0;34m\u001b[0m\u001b[0;34m\u001b[0m\u001b[0m\n\u001b[0m\u001b[1;32m     64\u001b[0m     \u001b[0;32mreturn\u001b[0m \u001b[0mestimator\u001b[0m\u001b[0;34m\u001b[0m\u001b[0;34m\u001b[0m\u001b[0m\n\u001b[1;32m     65\u001b[0m \u001b[0;34m\u001b[0m\u001b[0m\n",
            "\u001b[0;32m/usr/local/lib/python3.11/dist-packages/sklearn/base.py\u001b[0m in \u001b[0;36mwrapper\u001b[0;34m(estimator, *args, **kwargs)\u001b[0m\n\u001b[1;32m   1387\u001b[0m                 )\n\u001b[1;32m   1388\u001b[0m             ):\n\u001b[0;32m-> 1389\u001b[0;31m                 \u001b[0;32mreturn\u001b[0m \u001b[0mfit_method\u001b[0m\u001b[0;34m(\u001b[0m\u001b[0mestimator\u001b[0m\u001b[0;34m,\u001b[0m \u001b[0;34m*\u001b[0m\u001b[0margs\u001b[0m\u001b[0;34m,\u001b[0m \u001b[0;34m**\u001b[0m\u001b[0mkwargs\u001b[0m\u001b[0;34m)\u001b[0m\u001b[0;34m\u001b[0m\u001b[0;34m\u001b[0m\u001b[0m\n\u001b[0m\u001b[1;32m   1390\u001b[0m \u001b[0;34m\u001b[0m\u001b[0m\n\u001b[1;32m   1391\u001b[0m         \u001b[0;32mreturn\u001b[0m \u001b[0mwrapper\u001b[0m\u001b[0;34m\u001b[0m\u001b[0;34m\u001b[0m\u001b[0m\n",
            "\u001b[0;32m/usr/local/lib/python3.11/dist-packages/sklearn/ensemble/_forest.py\u001b[0m in \u001b[0;36mfit\u001b[0;34m(self, X, y, sample_weight)\u001b[0m\n\u001b[1;32m    485\u001b[0m             \u001b[0;31m# parallel_backend contexts set at a higher level,\u001b[0m\u001b[0;34m\u001b[0m\u001b[0;34m\u001b[0m\u001b[0m\n\u001b[1;32m    486\u001b[0m             \u001b[0;31m# since correctness does not rely on using threads.\u001b[0m\u001b[0;34m\u001b[0m\u001b[0;34m\u001b[0m\u001b[0m\n\u001b[0;32m--> 487\u001b[0;31m             trees = Parallel(\n\u001b[0m\u001b[1;32m    488\u001b[0m                 \u001b[0mn_jobs\u001b[0m\u001b[0;34m=\u001b[0m\u001b[0mself\u001b[0m\u001b[0;34m.\u001b[0m\u001b[0mn_jobs\u001b[0m\u001b[0;34m,\u001b[0m\u001b[0;34m\u001b[0m\u001b[0;34m\u001b[0m\u001b[0m\n\u001b[1;32m    489\u001b[0m                 \u001b[0mverbose\u001b[0m\u001b[0;34m=\u001b[0m\u001b[0mself\u001b[0m\u001b[0;34m.\u001b[0m\u001b[0mverbose\u001b[0m\u001b[0;34m,\u001b[0m\u001b[0;34m\u001b[0m\u001b[0;34m\u001b[0m\u001b[0m\n",
            "\u001b[0;32m/usr/local/lib/python3.11/dist-packages/sklearn/utils/parallel.py\u001b[0m in \u001b[0;36m__call__\u001b[0;34m(self, iterable)\u001b[0m\n\u001b[1;32m     75\u001b[0m             \u001b[0;32mfor\u001b[0m \u001b[0mdelayed_func\u001b[0m\u001b[0;34m,\u001b[0m \u001b[0margs\u001b[0m\u001b[0;34m,\u001b[0m \u001b[0mkwargs\u001b[0m \u001b[0;32min\u001b[0m \u001b[0miterable\u001b[0m\u001b[0;34m\u001b[0m\u001b[0;34m\u001b[0m\u001b[0m\n\u001b[1;32m     76\u001b[0m         )\n\u001b[0;32m---> 77\u001b[0;31m         \u001b[0;32mreturn\u001b[0m \u001b[0msuper\u001b[0m\u001b[0;34m(\u001b[0m\u001b[0;34m)\u001b[0m\u001b[0;34m.\u001b[0m\u001b[0m__call__\u001b[0m\u001b[0;34m(\u001b[0m\u001b[0miterable_with_config\u001b[0m\u001b[0;34m)\u001b[0m\u001b[0;34m\u001b[0m\u001b[0;34m\u001b[0m\u001b[0m\n\u001b[0m\u001b[1;32m     78\u001b[0m \u001b[0;34m\u001b[0m\u001b[0m\n\u001b[1;32m     79\u001b[0m \u001b[0;34m\u001b[0m\u001b[0m\n",
            "\u001b[0;32m/usr/local/lib/python3.11/dist-packages/joblib/parallel.py\u001b[0m in \u001b[0;36m__call__\u001b[0;34m(self, iterable)\u001b[0m\n\u001b[1;32m   1984\u001b[0m             \u001b[0moutput\u001b[0m \u001b[0;34m=\u001b[0m \u001b[0mself\u001b[0m\u001b[0;34m.\u001b[0m\u001b[0m_get_sequential_output\u001b[0m\u001b[0;34m(\u001b[0m\u001b[0miterable\u001b[0m\u001b[0;34m)\u001b[0m\u001b[0;34m\u001b[0m\u001b[0;34m\u001b[0m\u001b[0m\n\u001b[1;32m   1985\u001b[0m             \u001b[0mnext\u001b[0m\u001b[0;34m(\u001b[0m\u001b[0moutput\u001b[0m\u001b[0;34m)\u001b[0m\u001b[0;34m\u001b[0m\u001b[0;34m\u001b[0m\u001b[0m\n\u001b[0;32m-> 1986\u001b[0;31m             \u001b[0;32mreturn\u001b[0m \u001b[0moutput\u001b[0m \u001b[0;32mif\u001b[0m \u001b[0mself\u001b[0m\u001b[0;34m.\u001b[0m\u001b[0mreturn_generator\u001b[0m \u001b[0;32melse\u001b[0m \u001b[0mlist\u001b[0m\u001b[0;34m(\u001b[0m\u001b[0moutput\u001b[0m\u001b[0;34m)\u001b[0m\u001b[0;34m\u001b[0m\u001b[0;34m\u001b[0m\u001b[0m\n\u001b[0m\u001b[1;32m   1987\u001b[0m \u001b[0;34m\u001b[0m\u001b[0m\n\u001b[1;32m   1988\u001b[0m         \u001b[0;31m# Let's create an ID that uniquely identifies the current call. If the\u001b[0m\u001b[0;34m\u001b[0m\u001b[0;34m\u001b[0m\u001b[0m\n",
            "\u001b[0;32m/usr/local/lib/python3.11/dist-packages/joblib/parallel.py\u001b[0m in \u001b[0;36m_get_sequential_output\u001b[0;34m(self, iterable)\u001b[0m\n\u001b[1;32m   1912\u001b[0m                 \u001b[0mself\u001b[0m\u001b[0;34m.\u001b[0m\u001b[0mn_dispatched_batches\u001b[0m \u001b[0;34m+=\u001b[0m \u001b[0;36m1\u001b[0m\u001b[0;34m\u001b[0m\u001b[0;34m\u001b[0m\u001b[0m\n\u001b[1;32m   1913\u001b[0m                 \u001b[0mself\u001b[0m\u001b[0;34m.\u001b[0m\u001b[0mn_dispatched_tasks\u001b[0m \u001b[0;34m+=\u001b[0m \u001b[0;36m1\u001b[0m\u001b[0;34m\u001b[0m\u001b[0;34m\u001b[0m\u001b[0m\n\u001b[0;32m-> 1914\u001b[0;31m                 \u001b[0mres\u001b[0m \u001b[0;34m=\u001b[0m \u001b[0mfunc\u001b[0m\u001b[0;34m(\u001b[0m\u001b[0;34m*\u001b[0m\u001b[0margs\u001b[0m\u001b[0;34m,\u001b[0m \u001b[0;34m**\u001b[0m\u001b[0mkwargs\u001b[0m\u001b[0;34m)\u001b[0m\u001b[0;34m\u001b[0m\u001b[0;34m\u001b[0m\u001b[0m\n\u001b[0m\u001b[1;32m   1915\u001b[0m                 \u001b[0mself\u001b[0m\u001b[0;34m.\u001b[0m\u001b[0mn_completed_tasks\u001b[0m \u001b[0;34m+=\u001b[0m \u001b[0;36m1\u001b[0m\u001b[0;34m\u001b[0m\u001b[0;34m\u001b[0m\u001b[0m\n\u001b[1;32m   1916\u001b[0m                 \u001b[0mself\u001b[0m\u001b[0;34m.\u001b[0m\u001b[0mprint_progress\u001b[0m\u001b[0;34m(\u001b[0m\u001b[0;34m)\u001b[0m\u001b[0;34m\u001b[0m\u001b[0;34m\u001b[0m\u001b[0m\n",
            "\u001b[0;32m/usr/local/lib/python3.11/dist-packages/sklearn/utils/parallel.py\u001b[0m in \u001b[0;36m__call__\u001b[0;34m(self, *args, **kwargs)\u001b[0m\n\u001b[1;32m    137\u001b[0m             \u001b[0mconfig\u001b[0m \u001b[0;34m=\u001b[0m \u001b[0;34m{\u001b[0m\u001b[0;34m}\u001b[0m\u001b[0;34m\u001b[0m\u001b[0;34m\u001b[0m\u001b[0m\n\u001b[1;32m    138\u001b[0m         \u001b[0;32mwith\u001b[0m \u001b[0mconfig_context\u001b[0m\u001b[0;34m(\u001b[0m\u001b[0;34m**\u001b[0m\u001b[0mconfig\u001b[0m\u001b[0;34m)\u001b[0m\u001b[0;34m:\u001b[0m\u001b[0;34m\u001b[0m\u001b[0;34m\u001b[0m\u001b[0m\n\u001b[0;32m--> 139\u001b[0;31m             \u001b[0;32mreturn\u001b[0m \u001b[0mself\u001b[0m\u001b[0;34m.\u001b[0m\u001b[0mfunction\u001b[0m\u001b[0;34m(\u001b[0m\u001b[0;34m*\u001b[0m\u001b[0margs\u001b[0m\u001b[0;34m,\u001b[0m \u001b[0;34m**\u001b[0m\u001b[0mkwargs\u001b[0m\u001b[0;34m)\u001b[0m\u001b[0;34m\u001b[0m\u001b[0;34m\u001b[0m\u001b[0m\n\u001b[0m\u001b[1;32m    140\u001b[0m \u001b[0;34m\u001b[0m\u001b[0m\n\u001b[1;32m    141\u001b[0m \u001b[0;34m\u001b[0m\u001b[0m\n",
            "\u001b[0;32m/usr/local/lib/python3.11/dist-packages/sklearn/ensemble/_forest.py\u001b[0m in \u001b[0;36m_parallel_build_trees\u001b[0;34m(tree, bootstrap, X, y, sample_weight, tree_idx, n_trees, verbose, class_weight, n_samples_bootstrap, missing_values_in_feature_mask)\u001b[0m\n\u001b[1;32m    187\u001b[0m             \u001b[0mcurr_sample_weight\u001b[0m \u001b[0;34m*=\u001b[0m \u001b[0mcompute_sample_weight\u001b[0m\u001b[0;34m(\u001b[0m\u001b[0;34m\"balanced\"\u001b[0m\u001b[0;34m,\u001b[0m \u001b[0my\u001b[0m\u001b[0;34m,\u001b[0m \u001b[0mindices\u001b[0m\u001b[0;34m=\u001b[0m\u001b[0mindices\u001b[0m\u001b[0;34m)\u001b[0m\u001b[0;34m\u001b[0m\u001b[0;34m\u001b[0m\u001b[0m\n\u001b[1;32m    188\u001b[0m \u001b[0;34m\u001b[0m\u001b[0m\n\u001b[0;32m--> 189\u001b[0;31m         tree._fit(\n\u001b[0m\u001b[1;32m    190\u001b[0m             \u001b[0mX\u001b[0m\u001b[0;34m,\u001b[0m\u001b[0;34m\u001b[0m\u001b[0;34m\u001b[0m\u001b[0m\n\u001b[1;32m    191\u001b[0m             \u001b[0my\u001b[0m\u001b[0;34m,\u001b[0m\u001b[0;34m\u001b[0m\u001b[0;34m\u001b[0m\u001b[0m\n",
            "\u001b[0;32m/usr/local/lib/python3.11/dist-packages/sklearn/tree/_classes.py\u001b[0m in \u001b[0;36m_fit\u001b[0;34m(self, X, y, sample_weight, check_input, missing_values_in_feature_mask)\u001b[0m\n\u001b[1;32m    470\u001b[0m             )\n\u001b[1;32m    471\u001b[0m \u001b[0;34m\u001b[0m\u001b[0m\n\u001b[0;32m--> 472\u001b[0;31m         \u001b[0mbuilder\u001b[0m\u001b[0;34m.\u001b[0m\u001b[0mbuild\u001b[0m\u001b[0;34m(\u001b[0m\u001b[0mself\u001b[0m\u001b[0;34m.\u001b[0m\u001b[0mtree_\u001b[0m\u001b[0;34m,\u001b[0m \u001b[0mX\u001b[0m\u001b[0;34m,\u001b[0m \u001b[0my\u001b[0m\u001b[0;34m,\u001b[0m \u001b[0msample_weight\u001b[0m\u001b[0;34m,\u001b[0m \u001b[0mmissing_values_in_feature_mask\u001b[0m\u001b[0;34m)\u001b[0m\u001b[0;34m\u001b[0m\u001b[0;34m\u001b[0m\u001b[0m\n\u001b[0m\u001b[1;32m    473\u001b[0m \u001b[0;34m\u001b[0m\u001b[0m\n\u001b[1;32m    474\u001b[0m         \u001b[0;32mif\u001b[0m \u001b[0mself\u001b[0m\u001b[0;34m.\u001b[0m\u001b[0mn_outputs_\u001b[0m \u001b[0;34m==\u001b[0m \u001b[0;36m1\u001b[0m \u001b[0;32mand\u001b[0m \u001b[0mis_classifier\u001b[0m\u001b[0;34m(\u001b[0m\u001b[0mself\u001b[0m\u001b[0;34m)\u001b[0m\u001b[0;34m:\u001b[0m\u001b[0;34m\u001b[0m\u001b[0;34m\u001b[0m\u001b[0m\n",
            "\u001b[0;31mKeyboardInterrupt\u001b[0m: "
          ]
        }
      ]
    },
    {
      "cell_type": "code",
      "source": [
        "# Trial 0 finished with value: 1.9489668821607211 and parameters: {'max_depth': 7, 'n_estimators': 88, 'min_samples_leaf': 6}. Best is trial 0 with value: 1.9489668821607211 # 6등\n",
        "# Trial 1 finished with value: 1.9421799641969546 and parameters: {'max_depth': 11, 'n_estimators': 94, 'min_samples_leaf': 4}. Best is trial 1 with value: 1.9421799641969546.\n",
        "# Trial 2 finished with value: 1.9520586477854869 and parameters: {'max_depth': 9, 'n_estimators': 36, 'min_samples_leaf': 1}. Best is trial 1 with value: 1.9421799641969546. # 3등\n",
        "# Trial 9 finished with value: 1.9404531955238757 and parameters: {'max_depth': 12, 'n_estimators': 88, 'min_samples_leaf': 7}. Best is trial 9 with value: 1.9404531955238757.\n",
        "\n",
        "# scaler 하고 난뒤 데이터 한번 보고 의미 있는지 없는지 체크, 임계값 고려해서 전처리 다시 진행\n",
        "# 기본 베이스 모델에 하이퍼파라미터 튜닝한결과 1.94045 가 젤 좋은 성능을 보였음.\n",
        "# 근데 지금 큰일난게 데이콘 점수 매긴기준 확인해보니까.. private랑 public 데이터셋 사용햇음  하 ..\n",
        "# 아니 내가 다운받은건 뭐지? 분명 데이터 설명에는 train, test 로 나눠져있다고 이거 하라고 해서 이걸로 했는데\n",
        "# 목요일 회의 끝나고 돌려보길 잘햇다.. 남은건 일요일에 해라 ㅋ\n",
        "# gpu근데 일요일까지 돌아오나 ?.."
      ],
      "metadata": {
        "id": "V0y2xVXDFw1M"
      },
      "execution_count": null,
      "outputs": []
    }
  ]
}